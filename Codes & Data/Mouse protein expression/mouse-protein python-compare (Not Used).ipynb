{
 "cells": [
  {
   "cell_type": "markdown",
   "metadata": {},
   "source": [
    "Toy Example From the Original PCPCA Paper"
   ]
  },
  {
   "cell_type": "code",
   "execution_count": 1,
   "metadata": {},
   "outputs": [],
   "source": [
    "import pandas as pd\n",
    "import matplotlib.pyplot as plt\n",
    "import numpy as np\n",
    "from pcpca import PCPCA, CPCA"
   ]
  },
  {
   "cell_type": "code",
   "execution_count": 2,
   "metadata": {},
   "outputs": [
    {
     "ename": "FileNotFoundError",
     "evalue": "[Errno 2] No such file or directory: 'C:/Users/92503/Desktop/DSA4199 FYP/pcpca git-hub/pcpca/data/toy/foreground.csv'",
     "output_type": "error",
     "traceback": [
      "\u001b[1;31m---------------------------------------------------------------------------\u001b[0m",
      "\u001b[1;31mFileNotFoundError\u001b[0m                         Traceback (most recent call last)",
      "\u001b[1;32mc:\\Users\\ASUS\\Desktop\\DSA4199 FYP\\PCPCA\\CPCA & PCPCA\\Mouse protein expression\\mouse-protein python-compare.ipynb Cell 3\u001b[0m in \u001b[0;36m<module>\u001b[1;34m\u001b[0m\n\u001b[0;32m      <a href='vscode-notebook-cell:/c%3A/Users/ASUS/Desktop/DSA4199%20FYP/PCPCA/CPCA%20%26%20PCPCA/Mouse%20protein%20expression/mouse-protein%20python-compare.ipynb#W2sZmlsZQ%3D%3D?line=0'>1</a>\u001b[0m \u001b[39mfrom\u001b[39;00m \u001b[39mpcpca\u001b[39;00m \u001b[39mimport\u001b[39;00m PCPCA\n\u001b[0;32m      <a href='vscode-notebook-cell:/c%3A/Users/ASUS/Desktop/DSA4199%20FYP/PCPCA/CPCA%20%26%20PCPCA/Mouse%20protein%20expression/mouse-protein%20python-compare.ipynb#W2sZmlsZQ%3D%3D?line=2'>3</a>\u001b[0m \u001b[39m# test the toy example\u001b[39;00m\n\u001b[1;32m----> <a href='vscode-notebook-cell:/c%3A/Users/ASUS/Desktop/DSA4199%20FYP/PCPCA/CPCA%20%26%20PCPCA/Mouse%20protein%20expression/mouse-protein%20python-compare.ipynb#W2sZmlsZQ%3D%3D?line=3'>4</a>\u001b[0m X \u001b[39m=\u001b[39m pd\u001b[39m.\u001b[39;49mread_csv(\u001b[39m\"\u001b[39;49m\u001b[39mC:/Users/92503/Desktop/DSA4199 FYP/pcpca git-hub/pcpca/data/toy/foreground.csv\u001b[39;49m\u001b[39m\"\u001b[39;49m, header\u001b[39m=\u001b[39;49m\u001b[39mNone\u001b[39;49;00m)\u001b[39m.\u001b[39mvalues\n\u001b[0;32m      <a href='vscode-notebook-cell:/c%3A/Users/ASUS/Desktop/DSA4199%20FYP/PCPCA/CPCA%20%26%20PCPCA/Mouse%20protein%20expression/mouse-protein%20python-compare.ipynb#W2sZmlsZQ%3D%3D?line=4'>5</a>\u001b[0m Y \u001b[39m=\u001b[39m pd\u001b[39m.\u001b[39mread_csv(\u001b[39m\"\u001b[39m\u001b[39mC:/Users/92503/Desktop/DSA4199 FYP/pcpca git-hub/pcpca/data/toy/background.csv\u001b[39m\u001b[39m\"\u001b[39m, header\u001b[39m=\u001b[39m\u001b[39mNone\u001b[39;00m)\u001b[39m.\u001b[39mvalues\n\u001b[0;32m      <a href='vscode-notebook-cell:/c%3A/Users/ASUS/Desktop/DSA4199%20FYP/PCPCA/CPCA%20%26%20PCPCA/Mouse%20protein%20expression/mouse-protein%20python-compare.ipynb#W2sZmlsZQ%3D%3D?line=5'>6</a>\u001b[0m \u001b[39m#Y = Y[ : ,0:100]\u001b[39;00m\n",
      "File \u001b[1;32mc:\\Users\\ASUS\\AppData\\Local\\Programs\\Python\\Python39\\lib\\site-packages\\pandas\\util\\_decorators.py:211\u001b[0m, in \u001b[0;36mdeprecate_kwarg.<locals>._deprecate_kwarg.<locals>.wrapper\u001b[1;34m(*args, **kwargs)\u001b[0m\n\u001b[0;32m    209\u001b[0m     \u001b[39melse\u001b[39;00m:\n\u001b[0;32m    210\u001b[0m         kwargs[new_arg_name] \u001b[39m=\u001b[39m new_arg_value\n\u001b[1;32m--> 211\u001b[0m \u001b[39mreturn\u001b[39;00m func(\u001b[39m*\u001b[39margs, \u001b[39m*\u001b[39m\u001b[39m*\u001b[39mkwargs)\n",
      "File \u001b[1;32mc:\\Users\\ASUS\\AppData\\Local\\Programs\\Python\\Python39\\lib\\site-packages\\pandas\\util\\_decorators.py:331\u001b[0m, in \u001b[0;36mdeprecate_nonkeyword_arguments.<locals>.decorate.<locals>.wrapper\u001b[1;34m(*args, **kwargs)\u001b[0m\n\u001b[0;32m    325\u001b[0m \u001b[39mif\u001b[39;00m \u001b[39mlen\u001b[39m(args) \u001b[39m>\u001b[39m num_allow_args:\n\u001b[0;32m    326\u001b[0m     warnings\u001b[39m.\u001b[39mwarn(\n\u001b[0;32m    327\u001b[0m         msg\u001b[39m.\u001b[39mformat(arguments\u001b[39m=\u001b[39m_format_argument_list(allow_args)),\n\u001b[0;32m    328\u001b[0m         \u001b[39mFutureWarning\u001b[39;00m,\n\u001b[0;32m    329\u001b[0m         stacklevel\u001b[39m=\u001b[39mfind_stack_level(),\n\u001b[0;32m    330\u001b[0m     )\n\u001b[1;32m--> 331\u001b[0m \u001b[39mreturn\u001b[39;00m func(\u001b[39m*\u001b[39margs, \u001b[39m*\u001b[39m\u001b[39m*\u001b[39mkwargs)\n",
      "File \u001b[1;32mc:\\Users\\ASUS\\AppData\\Local\\Programs\\Python\\Python39\\lib\\site-packages\\pandas\\io\\parsers\\readers.py:950\u001b[0m, in \u001b[0;36mread_csv\u001b[1;34m(filepath_or_buffer, sep, delimiter, header, names, index_col, usecols, squeeze, prefix, mangle_dupe_cols, dtype, engine, converters, true_values, false_values, skipinitialspace, skiprows, skipfooter, nrows, na_values, keep_default_na, na_filter, verbose, skip_blank_lines, parse_dates, infer_datetime_format, keep_date_col, date_parser, dayfirst, cache_dates, iterator, chunksize, compression, thousands, decimal, lineterminator, quotechar, quoting, doublequote, escapechar, comment, encoding, encoding_errors, dialect, error_bad_lines, warn_bad_lines, on_bad_lines, delim_whitespace, low_memory, memory_map, float_precision, storage_options)\u001b[0m\n\u001b[0;32m    935\u001b[0m kwds_defaults \u001b[39m=\u001b[39m _refine_defaults_read(\n\u001b[0;32m    936\u001b[0m     dialect,\n\u001b[0;32m    937\u001b[0m     delimiter,\n\u001b[1;32m   (...)\u001b[0m\n\u001b[0;32m    946\u001b[0m     defaults\u001b[39m=\u001b[39m{\u001b[39m\"\u001b[39m\u001b[39mdelimiter\u001b[39m\u001b[39m\"\u001b[39m: \u001b[39m\"\u001b[39m\u001b[39m,\u001b[39m\u001b[39m\"\u001b[39m},\n\u001b[0;32m    947\u001b[0m )\n\u001b[0;32m    948\u001b[0m kwds\u001b[39m.\u001b[39mupdate(kwds_defaults)\n\u001b[1;32m--> 950\u001b[0m \u001b[39mreturn\u001b[39;00m _read(filepath_or_buffer, kwds)\n",
      "File \u001b[1;32mc:\\Users\\ASUS\\AppData\\Local\\Programs\\Python\\Python39\\lib\\site-packages\\pandas\\io\\parsers\\readers.py:605\u001b[0m, in \u001b[0;36m_read\u001b[1;34m(filepath_or_buffer, kwds)\u001b[0m\n\u001b[0;32m    602\u001b[0m _validate_names(kwds\u001b[39m.\u001b[39mget(\u001b[39m\"\u001b[39m\u001b[39mnames\u001b[39m\u001b[39m\"\u001b[39m, \u001b[39mNone\u001b[39;00m))\n\u001b[0;32m    604\u001b[0m \u001b[39m# Create the parser.\u001b[39;00m\n\u001b[1;32m--> 605\u001b[0m parser \u001b[39m=\u001b[39m TextFileReader(filepath_or_buffer, \u001b[39m*\u001b[39m\u001b[39m*\u001b[39mkwds)\n\u001b[0;32m    607\u001b[0m \u001b[39mif\u001b[39;00m chunksize \u001b[39mor\u001b[39;00m iterator:\n\u001b[0;32m    608\u001b[0m     \u001b[39mreturn\u001b[39;00m parser\n",
      "File \u001b[1;32mc:\\Users\\ASUS\\AppData\\Local\\Programs\\Python\\Python39\\lib\\site-packages\\pandas\\io\\parsers\\readers.py:1442\u001b[0m, in \u001b[0;36mTextFileReader.__init__\u001b[1;34m(self, f, engine, **kwds)\u001b[0m\n\u001b[0;32m   1439\u001b[0m     \u001b[39mself\u001b[39m\u001b[39m.\u001b[39moptions[\u001b[39m\"\u001b[39m\u001b[39mhas_index_names\u001b[39m\u001b[39m\"\u001b[39m] \u001b[39m=\u001b[39m kwds[\u001b[39m\"\u001b[39m\u001b[39mhas_index_names\u001b[39m\u001b[39m\"\u001b[39m]\n\u001b[0;32m   1441\u001b[0m \u001b[39mself\u001b[39m\u001b[39m.\u001b[39mhandles: IOHandles \u001b[39m|\u001b[39m \u001b[39mNone\u001b[39;00m \u001b[39m=\u001b[39m \u001b[39mNone\u001b[39;00m\n\u001b[1;32m-> 1442\u001b[0m \u001b[39mself\u001b[39m\u001b[39m.\u001b[39m_engine \u001b[39m=\u001b[39m \u001b[39mself\u001b[39;49m\u001b[39m.\u001b[39;49m_make_engine(f, \u001b[39mself\u001b[39;49m\u001b[39m.\u001b[39;49mengine)\n",
      "File \u001b[1;32mc:\\Users\\ASUS\\AppData\\Local\\Programs\\Python\\Python39\\lib\\site-packages\\pandas\\io\\parsers\\readers.py:1735\u001b[0m, in \u001b[0;36mTextFileReader._make_engine\u001b[1;34m(self, f, engine)\u001b[0m\n\u001b[0;32m   1733\u001b[0m     \u001b[39mif\u001b[39;00m \u001b[39m\"\u001b[39m\u001b[39mb\u001b[39m\u001b[39m\"\u001b[39m \u001b[39mnot\u001b[39;00m \u001b[39min\u001b[39;00m mode:\n\u001b[0;32m   1734\u001b[0m         mode \u001b[39m+\u001b[39m\u001b[39m=\u001b[39m \u001b[39m\"\u001b[39m\u001b[39mb\u001b[39m\u001b[39m\"\u001b[39m\n\u001b[1;32m-> 1735\u001b[0m \u001b[39mself\u001b[39m\u001b[39m.\u001b[39mhandles \u001b[39m=\u001b[39m get_handle(\n\u001b[0;32m   1736\u001b[0m     f,\n\u001b[0;32m   1737\u001b[0m     mode,\n\u001b[0;32m   1738\u001b[0m     encoding\u001b[39m=\u001b[39;49m\u001b[39mself\u001b[39;49m\u001b[39m.\u001b[39;49moptions\u001b[39m.\u001b[39;49mget(\u001b[39m\"\u001b[39;49m\u001b[39mencoding\u001b[39;49m\u001b[39m\"\u001b[39;49m, \u001b[39mNone\u001b[39;49;00m),\n\u001b[0;32m   1739\u001b[0m     compression\u001b[39m=\u001b[39;49m\u001b[39mself\u001b[39;49m\u001b[39m.\u001b[39;49moptions\u001b[39m.\u001b[39;49mget(\u001b[39m\"\u001b[39;49m\u001b[39mcompression\u001b[39;49m\u001b[39m\"\u001b[39;49m, \u001b[39mNone\u001b[39;49;00m),\n\u001b[0;32m   1740\u001b[0m     memory_map\u001b[39m=\u001b[39;49m\u001b[39mself\u001b[39;49m\u001b[39m.\u001b[39;49moptions\u001b[39m.\u001b[39;49mget(\u001b[39m\"\u001b[39;49m\u001b[39mmemory_map\u001b[39;49m\u001b[39m\"\u001b[39;49m, \u001b[39mFalse\u001b[39;49;00m),\n\u001b[0;32m   1741\u001b[0m     is_text\u001b[39m=\u001b[39;49mis_text,\n\u001b[0;32m   1742\u001b[0m     errors\u001b[39m=\u001b[39;49m\u001b[39mself\u001b[39;49m\u001b[39m.\u001b[39;49moptions\u001b[39m.\u001b[39;49mget(\u001b[39m\"\u001b[39;49m\u001b[39mencoding_errors\u001b[39;49m\u001b[39m\"\u001b[39;49m, \u001b[39m\"\u001b[39;49m\u001b[39mstrict\u001b[39;49m\u001b[39m\"\u001b[39;49m),\n\u001b[0;32m   1743\u001b[0m     storage_options\u001b[39m=\u001b[39;49m\u001b[39mself\u001b[39;49m\u001b[39m.\u001b[39;49moptions\u001b[39m.\u001b[39;49mget(\u001b[39m\"\u001b[39;49m\u001b[39mstorage_options\u001b[39;49m\u001b[39m\"\u001b[39;49m, \u001b[39mNone\u001b[39;49;00m),\n\u001b[0;32m   1744\u001b[0m )\n\u001b[0;32m   1745\u001b[0m \u001b[39massert\u001b[39;00m \u001b[39mself\u001b[39m\u001b[39m.\u001b[39mhandles \u001b[39mis\u001b[39;00m \u001b[39mnot\u001b[39;00m \u001b[39mNone\u001b[39;00m\n\u001b[0;32m   1746\u001b[0m f \u001b[39m=\u001b[39m \u001b[39mself\u001b[39m\u001b[39m.\u001b[39mhandles\u001b[39m.\u001b[39mhandle\n",
      "File \u001b[1;32mc:\\Users\\ASUS\\AppData\\Local\\Programs\\Python\\Python39\\lib\\site-packages\\pandas\\io\\common.py:856\u001b[0m, in \u001b[0;36mget_handle\u001b[1;34m(path_or_buf, mode, encoding, compression, memory_map, is_text, errors, storage_options)\u001b[0m\n\u001b[0;32m    851\u001b[0m \u001b[39melif\u001b[39;00m \u001b[39misinstance\u001b[39m(handle, \u001b[39mstr\u001b[39m):\n\u001b[0;32m    852\u001b[0m     \u001b[39m# Check whether the filename is to be opened in binary mode.\u001b[39;00m\n\u001b[0;32m    853\u001b[0m     \u001b[39m# Binary mode does not support 'encoding' and 'newline'.\u001b[39;00m\n\u001b[0;32m    854\u001b[0m     \u001b[39mif\u001b[39;00m ioargs\u001b[39m.\u001b[39mencoding \u001b[39mand\u001b[39;00m \u001b[39m\"\u001b[39m\u001b[39mb\u001b[39m\u001b[39m\"\u001b[39m \u001b[39mnot\u001b[39;00m \u001b[39min\u001b[39;00m ioargs\u001b[39m.\u001b[39mmode:\n\u001b[0;32m    855\u001b[0m         \u001b[39m# Encoding\u001b[39;00m\n\u001b[1;32m--> 856\u001b[0m         handle \u001b[39m=\u001b[39m \u001b[39mopen\u001b[39;49m(\n\u001b[0;32m    857\u001b[0m             handle,\n\u001b[0;32m    858\u001b[0m             ioargs\u001b[39m.\u001b[39;49mmode,\n\u001b[0;32m    859\u001b[0m             encoding\u001b[39m=\u001b[39;49mioargs\u001b[39m.\u001b[39;49mencoding,\n\u001b[0;32m    860\u001b[0m             errors\u001b[39m=\u001b[39;49merrors,\n\u001b[0;32m    861\u001b[0m             newline\u001b[39m=\u001b[39;49m\u001b[39m\"\u001b[39;49m\u001b[39m\"\u001b[39;49m,\n\u001b[0;32m    862\u001b[0m         )\n\u001b[0;32m    863\u001b[0m     \u001b[39melse\u001b[39;00m:\n\u001b[0;32m    864\u001b[0m         \u001b[39m# Binary mode\u001b[39;00m\n\u001b[0;32m    865\u001b[0m         handle \u001b[39m=\u001b[39m \u001b[39mopen\u001b[39m(handle, ioargs\u001b[39m.\u001b[39mmode)\n",
      "\u001b[1;31mFileNotFoundError\u001b[0m: [Errno 2] No such file or directory: 'C:/Users/92503/Desktop/DSA4199 FYP/pcpca git-hub/pcpca/data/toy/foreground.csv'"
     ]
    }
   ],
   "source": [
    "from pcpca import PCPCA\n",
    "\n",
    "# test the toy example\n",
    "X = pd.read_csv(\"C:/Users/92503/Desktop/DSA4199 FYP/pcpca git-hub/pcpca/data/toy/foreground.csv\", header=None).values\n",
    "Y = pd.read_csv(\"C:/Users/92503/Desktop/DSA4199 FYP/pcpca git-hub/pcpca/data/toy/background.csv\", header=None).values\n",
    "#Y = Y[ : ,0:100]\n",
    "p, n = X.shape\n",
    "m = Y.shape[1]\n",
    "\n",
    "# Plot\n",
    "plt.scatter(X[0, :n//2], X[1, :n//2], alpha=0.5, label=\"Foreground group 1\", s=80, color=\"green\")\n",
    "plt.scatter(X[0, n//2:], X[1, n//2:], alpha=0.5, label=\"Foreground group 2\", s=80, color=\"orange\")\n",
    "plt.scatter(Y[0, :], Y[1, :], alpha=0.5, label=\"Background\", s=80, color=\"gray\")\n",
    "plt.legend()\n",
    "plt.xlim([-7, 7])\n",
    "plt.ylim([-7, 7])\n",
    "plt.show()\n"
   ]
  },
  {
   "cell_type": "code",
   "execution_count": 3,
   "metadata": {},
   "outputs": [],
   "source": [
    "# Use PCPCA code on toy example\n",
    "pcpca = PCPCA(gamma=0.7, n_components=1)\n",
    "pcpca.fit(X, Y)\n",
    "\n",
    "X_reduced, Y_reduced = pcpca.fit_transform(X, Y)"
   ]
  },
  {
   "cell_type": "code",
   "execution_count": 6,
   "metadata": {},
   "outputs": [
    {
     "data": {
      "text/plain": [
       "(2, 200)"
      ]
     },
     "execution_count": 6,
     "metadata": {},
     "output_type": "execute_result"
    }
   ],
   "source": [
    "X.shape"
   ]
  },
  {
   "cell_type": "code",
   "execution_count": 4,
   "metadata": {},
   "outputs": [
    {
     "data": {
      "text/plain": [
       "array([[-1.87429222],\n",
       "       [ 1.32755581]])"
      ]
     },
     "execution_count": 4,
     "metadata": {},
     "output_type": "execute_result"
    }
   ],
   "source": [
    "pcpca.W_mle"
   ]
  },
  {
   "cell_type": "markdown",
   "metadata": {},
   "source": [
    "Mouse Protein Data: Comparing PCPCA and CPCA"
   ]
  },
  {
   "cell_type": "code",
   "execution_count": 3,
   "metadata": {},
   "outputs": [],
   "source": [
    "import pandas as pd\n",
    "import matplotlib.pyplot as plt\n",
    "import numpy as np\n",
    "from pcpca import PCPCA, CPCA"
   ]
  },
  {
   "cell_type": "code",
   "execution_count": 12,
   "metadata": {},
   "outputs": [
    {
     "name": "stderr",
     "output_type": "stream",
     "text": [
      "c:\\Users\\ASUS\\AppData\\Local\\Programs\\Python\\Python39\\lib\\site-packages\\openpyxl\\worksheet\\_reader.py:312: UserWarning: Unknown extension is not supported and will be removed\n",
      "  warn(msg)\n"
     ]
    }
   ],
   "source": [
    "# Data processing for mouse protein\n",
    "# Need to install \"openpyxl\" through pip\n",
    "DATA_PATH = \"C:/Users/ASUS/Desktop/DSA4199 FYP/PCPCA/CPCA & PCPCA/Mouse protein expression/Data_Cortex_Nuclear.xlsx\"\n",
    "data = pd.read_excel(DATA_PATH, sheet_name=\"Hoja1\")\n",
    "\n",
    "# Get names of proteins\n",
    "protein_names = data.columns.values[1:78]\n",
    "\n",
    "# Fill NAs\n",
    "data = data.fillna(0)\n",
    "\n",
    "# Background (Data is standarized)\n",
    "Y_df = data[\n",
    "    (data.Behavior == \"C/S\")\n",
    "    & (data.Genotype == \"Control\")\n",
    "    & (data.Treatment == \"Saline\")\n",
    "]\n",
    "Y = Y_df[protein_names].values\n",
    "Y -= np.nanmean(Y, axis=0)\n",
    "Y /= np.nanstd(Y, axis=0)\n",
    "Y_full = Y.T\n",
    "\n",
    "\n",
    "# Foreground (Data is standarized)\n",
    "X_df = data[(data.Behavior == \"S/C\") & (data.Treatment == \"Saline\")]\n",
    "X = X_df[protein_names].values\n",
    "X -= np.nanmean(X, axis=0)\n",
    "X /= np.nanstd(X, axis=0)\n",
    "X_full = X.T\n",
    "\n",
    "\n",
    "p, n = X_full.shape # 77*270\n",
    "_, m = Y_full.shape # 77*135\n",
    "\n",
    "# Note here to use PCPCA/CPCA built in PCPCA package, the data must be: Rows=predictors, Columns=Samples"
   ]
  },
  {
   "cell_type": "code",
   "execution_count": 5,
   "metadata": {},
   "outputs": [
    {
     "data": {
      "text/plain": [
       "(77, 270)"
      ]
     },
     "execution_count": 5,
     "metadata": {},
     "output_type": "execute_result"
    }
   ],
   "source": [
    "X_full.shape"
   ]
  },
  {
   "cell_type": "code",
   "execution_count": 9,
   "metadata": {},
   "outputs": [],
   "source": [
    "pcpca = PCPCA(gamma=n / m * 0.5, n_components=2)  # Here actually gamma = 1\n",
    "X_reduced, Y_reduced = pcpca.fit_transform(X_full, Y_full)\n",
    "\n",
    "X_reduced_df = pd.DataFrame(X_reduced.T, columns=[\"PCPC1\", \"PCPC2\"])\n",
    "X_reduced_df[\"Genotype\"] = X_df.Genotype.values\n",
    "\n",
    "Y_reduced_df = pd.DataFrame(Y_reduced.T, columns=[\"PCPC1\", \"PCPC2\"])\n",
    "Y_reduced_df[\"Genotype\"] = [\"Background\" for _ in range(Y_reduced_df.shape[0])]\n"
   ]
  },
  {
   "cell_type": "code",
   "execution_count": 11,
   "metadata": {},
   "outputs": [
    {
     "ename": "AttributeError",
     "evalue": "PathCollection.set() got an unexpected keyword argument 'z'",
     "output_type": "error",
     "traceback": [
      "\u001b[1;31m---------------------------------------------------------------------------\u001b[0m",
      "\u001b[1;31mAttributeError\u001b[0m                            Traceback (most recent call last)",
      "\u001b[1;32mc:\\Users\\ASUS\\Desktop\\DSA4199 FYP\\PCPCA\\CPCA & PCPCA\\Mouse protein expression\\mouse-protein python-compare.ipynb Cell 12\u001b[0m in \u001b[0;36m<module>\u001b[1;34m\u001b[0m\n\u001b[0;32m     <a href='vscode-notebook-cell:/c%3A/Users/ASUS/Desktop/DSA4199%20FYP/PCPCA/CPCA%20%26%20PCPCA/Mouse%20protein%20expression/mouse-protein%20python-compare.ipynb#X22sZmlsZQ%3D%3D?line=9'>10</a>\u001b[0m \u001b[39mimport\u001b[39;00m \u001b[39mseaborn\u001b[39;00m \u001b[39mas\u001b[39;00m \u001b[39msns\u001b[39;00m\n\u001b[0;32m     <a href='vscode-notebook-cell:/c%3A/Users/ASUS/Desktop/DSA4199%20FYP/PCPCA/CPCA%20%26%20PCPCA/Mouse%20protein%20expression/mouse-protein%20python-compare.ipynb#X22sZmlsZQ%3D%3D?line=11'>12</a>\u001b[0m results_df \u001b[39m=\u001b[39m pd\u001b[39m.\u001b[39mconcat([X_reduced_df, Y_reduced_df], axis\u001b[39m=\u001b[39m\u001b[39m0\u001b[39m)\n\u001b[1;32m---> <a href='vscode-notebook-cell:/c%3A/Users/ASUS/Desktop/DSA4199%20FYP/PCPCA/CPCA%20%26%20PCPCA/Mouse%20protein%20expression/mouse-protein%20python-compare.ipynb#X22sZmlsZQ%3D%3D?line=12'>13</a>\u001b[0m sns\u001b[39m.\u001b[39;49mscatterplot(\n\u001b[0;32m     <a href='vscode-notebook-cell:/c%3A/Users/ASUS/Desktop/DSA4199%20FYP/PCPCA/CPCA%20%26%20PCPCA/Mouse%20protein%20expression/mouse-protein%20python-compare.ipynb#X22sZmlsZQ%3D%3D?line=13'>14</a>\u001b[0m     data\u001b[39m=\u001b[39;49mresults_df,\n\u001b[0;32m     <a href='vscode-notebook-cell:/c%3A/Users/ASUS/Desktop/DSA4199%20FYP/PCPCA/CPCA%20%26%20PCPCA/Mouse%20protein%20expression/mouse-protein%20python-compare.ipynb#X22sZmlsZQ%3D%3D?line=14'>15</a>\u001b[0m     x\u001b[39m=\u001b[39;49m\u001b[39m\"\u001b[39;49m\u001b[39mPCPC1\u001b[39;49m\u001b[39m\"\u001b[39;49m,\n\u001b[0;32m     <a href='vscode-notebook-cell:/c%3A/Users/ASUS/Desktop/DSA4199%20FYP/PCPCA/CPCA%20%26%20PCPCA/Mouse%20protein%20expression/mouse-protein%20python-compare.ipynb#X22sZmlsZQ%3D%3D?line=15'>16</a>\u001b[0m     y\u001b[39m=\u001b[39;49m\u001b[39m\"\u001b[39;49m\u001b[39mPCPC2\u001b[39;49m\u001b[39m\"\u001b[39;49m,\n\u001b[0;32m     <a href='vscode-notebook-cell:/c%3A/Users/ASUS/Desktop/DSA4199%20FYP/PCPCA/CPCA%20%26%20PCPCA/Mouse%20protein%20expression/mouse-protein%20python-compare.ipynb#X22sZmlsZQ%3D%3D?line=16'>17</a>\u001b[0m     z\u001b[39m=\u001b[39;49m\u001b[39m\"\u001b[39;49m\u001b[39mPCPC3\u001b[39;49m\u001b[39m\"\u001b[39;49m,\n\u001b[0;32m     <a href='vscode-notebook-cell:/c%3A/Users/ASUS/Desktop/DSA4199%20FYP/PCPCA/CPCA%20%26%20PCPCA/Mouse%20protein%20expression/mouse-protein%20python-compare.ipynb#X22sZmlsZQ%3D%3D?line=17'>18</a>\u001b[0m     hue\u001b[39m=\u001b[39;49m\u001b[39m\"\u001b[39;49m\u001b[39mGenotype\u001b[39;49m\u001b[39m\"\u001b[39;49m,\n\u001b[0;32m     <a href='vscode-notebook-cell:/c%3A/Users/ASUS/Desktop/DSA4199%20FYP/PCPCA/CPCA%20%26%20PCPCA/Mouse%20protein%20expression/mouse-protein%20python-compare.ipynb#X22sZmlsZQ%3D%3D?line=18'>19</a>\u001b[0m     palette\u001b[39m=\u001b[39;49m[\u001b[39m\"\u001b[39;49m\u001b[39mgreen\u001b[39;49m\u001b[39m\"\u001b[39;49m, \u001b[39m\"\u001b[39;49m\u001b[39morange\u001b[39;49m\u001b[39m\"\u001b[39;49m, \u001b[39m\"\u001b[39;49m\u001b[39mgray\u001b[39;49m\u001b[39m\"\u001b[39;49m],\n\u001b[0;32m     <a href='vscode-notebook-cell:/c%3A/Users/ASUS/Desktop/DSA4199%20FYP/PCPCA/CPCA%20%26%20PCPCA/Mouse%20protein%20expression/mouse-protein%20python-compare.ipynb#X22sZmlsZQ%3D%3D?line=19'>20</a>\u001b[0m )\n",
      "File \u001b[1;32mc:\\Users\\ASUS\\AppData\\Local\\Programs\\Python\\Python39\\lib\\site-packages\\seaborn\\relational.py:761\u001b[0m, in \u001b[0;36mscatterplot\u001b[1;34m(data, x, y, hue, size, style, palette, hue_order, hue_norm, sizes, size_order, size_norm, markers, style_order, legend, ax, **kwargs)\u001b[0m\n\u001b[0;32m    758\u001b[0m color \u001b[39m=\u001b[39m kwargs\u001b[39m.\u001b[39mpop(\u001b[39m\"\u001b[39m\u001b[39mcolor\u001b[39m\u001b[39m\"\u001b[39m, \u001b[39mNone\u001b[39;00m)\n\u001b[0;32m    759\u001b[0m kwargs[\u001b[39m\"\u001b[39m\u001b[39mcolor\u001b[39m\u001b[39m\"\u001b[39m] \u001b[39m=\u001b[39m _default_color(ax\u001b[39m.\u001b[39mscatter, hue, color, kwargs)\n\u001b[1;32m--> 761\u001b[0m p\u001b[39m.\u001b[39;49mplot(ax, kwargs)\n\u001b[0;32m    763\u001b[0m \u001b[39mreturn\u001b[39;00m ax\n",
      "File \u001b[1;32mc:\\Users\\ASUS\\AppData\\Local\\Programs\\Python\\Python39\\lib\\site-packages\\seaborn\\relational.py:573\u001b[0m, in \u001b[0;36m_ScatterPlotter.plot\u001b[1;34m(self, ax, kws)\u001b[0m\n\u001b[0;32m    570\u001b[0m     kws\u001b[39m.\u001b[39msetdefault(\u001b[39m\"\u001b[39m\u001b[39medgecolor\u001b[39m\u001b[39m\"\u001b[39m, \u001b[39m\"\u001b[39m\u001b[39mw\u001b[39m\u001b[39m\"\u001b[39m)\n\u001b[0;32m    572\u001b[0m \u001b[39m# Draw the scatter plot\u001b[39;00m\n\u001b[1;32m--> 573\u001b[0m points \u001b[39m=\u001b[39m ax\u001b[39m.\u001b[39mscatter(x\u001b[39m=\u001b[39mx, y\u001b[39m=\u001b[39my, \u001b[39m*\u001b[39m\u001b[39m*\u001b[39mkws)\n\u001b[0;32m    575\u001b[0m \u001b[39m# Apply the mapping from semantic variables to artist attributes\u001b[39;00m\n\u001b[0;32m    577\u001b[0m \u001b[39mif\u001b[39;00m \u001b[39m\"\u001b[39m\u001b[39mhue\u001b[39m\u001b[39m\"\u001b[39m \u001b[39min\u001b[39;00m \u001b[39mself\u001b[39m\u001b[39m.\u001b[39mvariables:\n",
      "File \u001b[1;32mc:\\Users\\ASUS\\AppData\\Local\\Programs\\Python\\Python39\\lib\\site-packages\\matplotlib\\__init__.py:1423\u001b[0m, in \u001b[0;36m_preprocess_data.<locals>.inner\u001b[1;34m(ax, data, *args, **kwargs)\u001b[0m\n\u001b[0;32m   1420\u001b[0m \u001b[39m@functools\u001b[39m\u001b[39m.\u001b[39mwraps(func)\n\u001b[0;32m   1421\u001b[0m \u001b[39mdef\u001b[39;00m \u001b[39minner\u001b[39m(ax, \u001b[39m*\u001b[39margs, data\u001b[39m=\u001b[39m\u001b[39mNone\u001b[39;00m, \u001b[39m*\u001b[39m\u001b[39m*\u001b[39mkwargs):\n\u001b[0;32m   1422\u001b[0m     \u001b[39mif\u001b[39;00m data \u001b[39mis\u001b[39;00m \u001b[39mNone\u001b[39;00m:\n\u001b[1;32m-> 1423\u001b[0m         \u001b[39mreturn\u001b[39;00m func(ax, \u001b[39m*\u001b[39m\u001b[39mmap\u001b[39m(sanitize_sequence, args), \u001b[39m*\u001b[39m\u001b[39m*\u001b[39mkwargs)\n\u001b[0;32m   1425\u001b[0m     bound \u001b[39m=\u001b[39m new_sig\u001b[39m.\u001b[39mbind(ax, \u001b[39m*\u001b[39margs, \u001b[39m*\u001b[39m\u001b[39m*\u001b[39mkwargs)\n\u001b[0;32m   1426\u001b[0m     auto_label \u001b[39m=\u001b[39m (bound\u001b[39m.\u001b[39marguments\u001b[39m.\u001b[39mget(label_namer)\n\u001b[0;32m   1427\u001b[0m                   \u001b[39mor\u001b[39;00m bound\u001b[39m.\u001b[39mkwargs\u001b[39m.\u001b[39mget(label_namer))\n",
      "File \u001b[1;32mc:\\Users\\ASUS\\AppData\\Local\\Programs\\Python\\Python39\\lib\\site-packages\\matplotlib\\axes\\_axes.py:4634\u001b[0m, in \u001b[0;36mAxes.scatter\u001b[1;34m(self, x, y, s, c, marker, cmap, norm, vmin, vmax, alpha, linewidths, edgecolors, plotnonfinite, **kwargs)\u001b[0m\n\u001b[0;32m   4630\u001b[0m         keys_str \u001b[39m=\u001b[39m \u001b[39m\"\u001b[39m\u001b[39m, \u001b[39m\u001b[39m\"\u001b[39m\u001b[39m.\u001b[39mjoin(\u001b[39mf\u001b[39m\u001b[39m\"\u001b[39m\u001b[39m'\u001b[39m\u001b[39m{\u001b[39;00mk\u001b[39m}\u001b[39;00m\u001b[39m'\u001b[39m\u001b[39m\"\u001b[39m \u001b[39mfor\u001b[39;00m k \u001b[39min\u001b[39;00m extra_keys)\n\u001b[0;32m   4631\u001b[0m         _api\u001b[39m.\u001b[39mwarn_external(\n\u001b[0;32m   4632\u001b[0m             \u001b[39m\"\u001b[39m\u001b[39mNo data for colormapping provided via \u001b[39m\u001b[39m'\u001b[39m\u001b[39mc\u001b[39m\u001b[39m'\u001b[39m\u001b[39m. \u001b[39m\u001b[39m\"\u001b[39m\n\u001b[0;32m   4633\u001b[0m             \u001b[39mf\u001b[39m\u001b[39m\"\u001b[39m\u001b[39mParameters \u001b[39m\u001b[39m{\u001b[39;00mkeys_str\u001b[39m}\u001b[39;00m\u001b[39m will be ignored\u001b[39m\u001b[39m\"\u001b[39m)\n\u001b[1;32m-> 4634\u001b[0m collection\u001b[39m.\u001b[39;49m_internal_update(kwargs)\n\u001b[0;32m   4636\u001b[0m \u001b[39m# Classic mode only:\u001b[39;00m\n\u001b[0;32m   4637\u001b[0m \u001b[39m# ensure there are margins to allow for the\u001b[39;00m\n\u001b[0;32m   4638\u001b[0m \u001b[39m# finite size of the symbols.  In v2.x, margins\u001b[39;00m\n\u001b[0;32m   4639\u001b[0m \u001b[39m# are present by default, so we disable this\u001b[39;00m\n\u001b[0;32m   4640\u001b[0m \u001b[39m# scatter-specific override.\u001b[39;00m\n\u001b[0;32m   4641\u001b[0m \u001b[39mif\u001b[39;00m mpl\u001b[39m.\u001b[39mrcParams[\u001b[39m'\u001b[39m\u001b[39m_internal.classic_mode\u001b[39m\u001b[39m'\u001b[39m]:\n",
      "File \u001b[1;32mc:\\Users\\ASUS\\AppData\\Local\\Programs\\Python\\Python39\\lib\\site-packages\\matplotlib\\artist.py:1186\u001b[0m, in \u001b[0;36mArtist._internal_update\u001b[1;34m(self, kwargs)\u001b[0m\n\u001b[0;32m   1179\u001b[0m \u001b[39mdef\u001b[39;00m \u001b[39m_internal_update\u001b[39m(\u001b[39mself\u001b[39m, kwargs):\n\u001b[0;32m   1180\u001b[0m     \u001b[39m\"\"\"\u001b[39;00m\n\u001b[0;32m   1181\u001b[0m \u001b[39m    Update artist properties without prenormalizing them, but generating\u001b[39;00m\n\u001b[0;32m   1182\u001b[0m \u001b[39m    errors as if calling `set`.\u001b[39;00m\n\u001b[0;32m   1183\u001b[0m \n\u001b[0;32m   1184\u001b[0m \u001b[39m    The lack of prenormalization is to maintain backcompatibility.\u001b[39;00m\n\u001b[0;32m   1185\u001b[0m \u001b[39m    \"\"\"\u001b[39;00m\n\u001b[1;32m-> 1186\u001b[0m     \u001b[39mreturn\u001b[39;00m \u001b[39mself\u001b[39;49m\u001b[39m.\u001b[39;49m_update_props(\n\u001b[0;32m   1187\u001b[0m         kwargs, \u001b[39m\"\u001b[39;49m\u001b[39m{cls.__name__}\u001b[39;49;00m\u001b[39m.set() got an unexpected keyword argument \u001b[39;49m\u001b[39m\"\u001b[39;49m\n\u001b[0;32m   1188\u001b[0m         \u001b[39m\"\u001b[39;49m\u001b[39m{prop_name!r}\u001b[39;49;00m\u001b[39m\"\u001b[39;49m)\n",
      "File \u001b[1;32mc:\\Users\\ASUS\\AppData\\Local\\Programs\\Python\\Python39\\lib\\site-packages\\matplotlib\\artist.py:1160\u001b[0m, in \u001b[0;36mArtist._update_props\u001b[1;34m(self, props, errfmt)\u001b[0m\n\u001b[0;32m   1158\u001b[0m             func \u001b[39m=\u001b[39m \u001b[39mgetattr\u001b[39m(\u001b[39mself\u001b[39m, \u001b[39mf\u001b[39m\u001b[39m\"\u001b[39m\u001b[39mset_\u001b[39m\u001b[39m{\u001b[39;00mk\u001b[39m}\u001b[39;00m\u001b[39m\"\u001b[39m, \u001b[39mNone\u001b[39;00m)\n\u001b[0;32m   1159\u001b[0m             \u001b[39mif\u001b[39;00m \u001b[39mnot\u001b[39;00m callable(func):\n\u001b[1;32m-> 1160\u001b[0m                 \u001b[39mraise\u001b[39;00m \u001b[39mAttributeError\u001b[39;00m(\n\u001b[0;32m   1161\u001b[0m                     errfmt\u001b[39m.\u001b[39mformat(\u001b[39mcls\u001b[39m\u001b[39m=\u001b[39m\u001b[39mtype\u001b[39m(\u001b[39mself\u001b[39m), prop_name\u001b[39m=\u001b[39mk))\n\u001b[0;32m   1162\u001b[0m             ret\u001b[39m.\u001b[39mappend(func(v))\n\u001b[0;32m   1163\u001b[0m \u001b[39mif\u001b[39;00m ret:\n",
      "\u001b[1;31mAttributeError\u001b[0m: PathCollection.set() got an unexpected keyword argument 'z'"
     ]
    },
    {
     "data": {
      "image/png": "[encoded data removed]",
      "text/plain": [
       "<Figure size 432x288 with 1 Axes>"
      ]
     },
     "metadata": {
      "needs_background": "light"
     },
     "output_type": "display_data"
    }
   ],
   "source": [
    "pcpca = PCPCA(gamma=n / m * 0.5, n_components=3)  # Here actually gamma = 1\n",
    "X_reduced, Y_reduced = pcpca.fit_transform(X_full, Y_full)\n",
    "\n",
    "X_reduced_df = pd.DataFrame(X_reduced.T, columns=[\"PCPC1\", \"PCPC2\",\"PCPC3\"])\n",
    "X_reduced_df[\"Genotype\"] = X_df.Genotype.values\n",
    "\n",
    "Y_reduced_df = pd.DataFrame(Y_reduced.T, columns=[\"PCPC1\", \"PCPC2\",\"PCPC3\"])\n",
    "Y_reduced_df[\"Genotype\"] = [\"Background\" for _ in range(Y_reduced_df.shape[0])]\n",
    "\n",
    "import seaborn as sns\n",
    "\n",
    "results_df = pd.concat([X_reduced_df, Y_reduced_df], axis=0)\n",
    "\n",
    "#fig = plt.figure()\n",
    "#ax = fig.add_subplot(111, projection = '3d')\n",
    "#ax.scatter(x, y, z)\n",
    "\n",
    "#plt.show()\n",
    "#sns.scatterplot(\n",
    "#    data=results_df,\n",
    "#    x=\"PCPC1\",\n",
    "#    y=\"PCPC2\",\n",
    "#    z=\"PCPC3\",\n",
    "#    hue=\"Genotype\",\n",
    "#    palette=[\"green\", \"orange\", \"gray\"],\n",
    "#)"
   ]
  },
  {
   "cell_type": "code",
   "execution_count": 7,
   "metadata": {},
   "outputs": [
    {
     "data": {
      "text/plain": [
       "<AxesSubplot: xlabel='PCPC1', ylabel='PCPC2'>"
      ]
     },
     "execution_count": 7,
     "metadata": {},
     "output_type": "execute_result"
    },
    {
     "data": {
      "image/png": "[encoded data removed]",
      "text/plain": [
       "<Figure size 432x288 with 1 Axes>"
      ]
     },
     "metadata": {
      "needs_background": "light"
     },
     "output_type": "display_data"
    }
   ],
   "source": [
    "import seaborn as sns\n",
    "\n",
    "results_df = pd.concat([X_reduced_df, Y_reduced_df], axis=0)\n",
    "sns.scatterplot(\n",
    "    data=results_df,\n",
    "    x=\"PCPC1\",\n",
    "    y=\"PCPC2\",\n",
    "    hue=\"Genotype\",\n",
    "    palette=[\"green\", \"orange\", \"gray\"],\n",
    ")"
   ]
  },
  {
   "cell_type": "code",
   "execution_count": 27,
   "metadata": {},
   "outputs": [
    {
     "name": "stdout",
     "output_type": "stream",
     "text": [
      "gamma'=0.0, cluster score=0.0533129918602624\n",
      "gamma'=5.128205128205129, cluster score=0.4339824972140598\n",
      "gamma'=10.256410256410257, cluster score=0.43484764439023804\n",
      "gamma'=15.384615384615387, cluster score=0.43137183514955674\n",
      "gamma'=20.512820512820515, cluster score=0.4295560114266341\n",
      "gamma'=25.641025641025642, cluster score=0.42939865053918985\n",
      "gamma'=30.769230769230774, cluster score=0.43036297195324613\n",
      "gamma'=35.8974358974359, cluster score=0.43203656882550556\n",
      "gamma'=41.02564102564103, cluster score=0.43412285278099194\n",
      "gamma'=46.15384615384616, cluster score=0.4364266382438044\n",
      "gamma'=51.282051282051285, cluster score=0.4388181727891957\n",
      "gamma'=56.410256410256416, cluster score=0.4411862780577513\n",
      "gamma'=61.53846153846155, cluster score=0.44342381717559487\n",
      "gamma'=66.66666666666667, cluster score=0.44541488177457106\n",
      "gamma'=71.7948717948718, cluster score=0.44705151543169674\n",
      "gamma'=76.92307692307693, cluster score=0.44823045914152565\n",
      "gamma'=82.05128205128206, cluster score=0.4488403983941218\n",
      "gamma'=87.17948717948718, cluster score=0.44880923617204804\n",
      "gamma'=92.30769230769232, cluster score=0.4481443379261454\n",
      "gamma'=97.43589743589745, cluster score=0.44691077759825204\n",
      "gamma'=102.56410256410257, cluster score=0.4452056795342526\n",
      "gamma'=107.69230769230771, cluster score=0.4431526765457911\n",
      "gamma'=112.82051282051283, cluster score=0.4408661169066361\n",
      "gamma'=117.94871794871796, cluster score=0.438463405083193\n",
      "gamma'=123.0769230769231, cluster score=0.43607205739139965\n",
      "gamma'=128.2051282051282, cluster score=0.4337888624732153\n",
      "gamma'=133.33333333333334, cluster score=0.43167959147718254\n",
      "gamma'=138.46153846153848, cluster score=0.4297791164893996\n",
      "gamma'=143.5897435897436, cluster score=0.4280883357541347\n",
      "gamma'=148.71794871794873, cluster score=0.4265765237965976\n",
      "gamma'=153.84615384615387, cluster score=0.4252034982871012\n",
      "gamma'=158.97435897435898, cluster score=0.42393460353820966\n",
      "gamma'=164.10256410256412, cluster score=0.42274700920273356\n",
      "gamma'=169.23076923076925, cluster score=0.4216325726669355\n",
      "gamma'=174.35897435897436, cluster score=0.4206007035788631\n",
      "gamma'=179.4871794871795, cluster score=0.41968900780939944\n",
      "gamma'=184.61538461538464, cluster score=0.4190245254778638\n",
      "gamma'=189.74358974358975, cluster score=0.41693053820453524\n"
     ]
    },
    {
     "ename": "Exception",
     "evalue": "Some of the first n_components eigenvalues are negative. Try lowering gamma or reducing n_components.",
     "output_type": "error",
     "traceback": [
      "\u001b[1;31m---------------------------------------------------------------------------\u001b[0m",
      "\u001b[1;31mException\u001b[0m                                 Traceback (most recent call last)",
      "\u001b[1;32mc:\\Users\\ASUS\\Desktop\\DSA4199 FYP\\PCPCA\\CPCA & PCPCA\\Mouse protein expression\\mouse-protein python-compare.ipynb Cell 14\u001b[0m in \u001b[0;36m<module>\u001b[1;34m\u001b[0m\n\u001b[0;32m     <a href='vscode-notebook-cell:/c%3A/Users/ASUS/Desktop/DSA4199%20FYP/PCPCA/CPCA%20%26%20PCPCA/Mouse%20protein%20expression/mouse-protein%20python-compare.ipynb#X15sZmlsZQ%3D%3D?line=12'>13</a>\u001b[0m \u001b[39mfor\u001b[39;00m gamma \u001b[39min\u001b[39;00m gamma_range_cpca:\n\u001b[0;32m     <a href='vscode-notebook-cell:/c%3A/Users/ASUS/Desktop/DSA4199%20FYP/PCPCA/CPCA%20%26%20PCPCA/Mouse%20protein%20expression/mouse-protein%20python-compare.ipynb#X15sZmlsZQ%3D%3D?line=13'>14</a>\u001b[0m     cpca_model \u001b[39m=\u001b[39m CPCA(gamma\u001b[39m=\u001b[39mn \u001b[39m/\u001b[39m m \u001b[39m*\u001b[39m gamma, n_components\u001b[39m=\u001b[39mN_COMPONENTS)\n\u001b[1;32m---> <a href='vscode-notebook-cell:/c%3A/Users/ASUS/Desktop/DSA4199%20FYP/PCPCA/CPCA%20%26%20PCPCA/Mouse%20protein%20expression/mouse-protein%20python-compare.ipynb#X15sZmlsZQ%3D%3D?line=14'>15</a>\u001b[0m     X_reduced, Y_reduced \u001b[39m=\u001b[39m cpca_model\u001b[39m.\u001b[39;49mfit_transform(X_full, Y_full)\n\u001b[0;32m     <a href='vscode-notebook-cell:/c%3A/Users/ASUS/Desktop/DSA4199%20FYP/PCPCA/CPCA%20%26%20PCPCA/Mouse%20protein%20expression/mouse-protein%20python-compare.ipynb#X15sZmlsZQ%3D%3D?line=17'>18</a>\u001b[0m     kmeans \u001b[39m=\u001b[39m KMeans(n_clusters\u001b[39m=\u001b[39m\u001b[39m2\u001b[39m, random_state\u001b[39m=\u001b[39m\u001b[39m0\u001b[39m)\u001b[39m.\u001b[39mfit(X_reduced\u001b[39m.\u001b[39mT)\n\u001b[0;32m     <a href='vscode-notebook-cell:/c%3A/Users/ASUS/Desktop/DSA4199%20FYP/PCPCA/CPCA%20%26%20PCPCA/Mouse%20protein%20expression/mouse-protein%20python-compare.ipynb#X15sZmlsZQ%3D%3D?line=19'>20</a>\u001b[0m     cpca_gamma_plot_list\u001b[39m.\u001b[39mappend(gamma)\n",
      "File \u001b[1;32mc:\\Users\\ASUS\\AppData\\Local\\Programs\\Python\\Python39\\lib\\site-packages\\pcpca\\cpca.py:47\u001b[0m, in \u001b[0;36mCPCA.fit_transform\u001b[1;34m(self, X, Y)\u001b[0m\n\u001b[0;32m     46\u001b[0m \u001b[39mdef\u001b[39;00m \u001b[39mfit_transform\u001b[39m(\u001b[39mself\u001b[39m, X, Y):\n\u001b[1;32m---> 47\u001b[0m     \u001b[39mself\u001b[39;49m\u001b[39m.\u001b[39;49mfit(X, Y)\n\u001b[0;32m     48\u001b[0m     \u001b[39mreturn\u001b[39;00m \u001b[39mself\u001b[39m\u001b[39m.\u001b[39mtransform(X, Y)\n",
      "File \u001b[1;32mc:\\Users\\ASUS\\AppData\\Local\\Programs\\Python\\Python39\\lib\\site-packages\\pcpca\\cpca.py:31\u001b[0m, in \u001b[0;36mCPCA.fit\u001b[1;34m(self, X, Y)\u001b[0m\n\u001b[0;32m     29\u001b[0m \u001b[39m# Stop if eigenvalue at n_components is negative\u001b[39;00m\n\u001b[0;32m     30\u001b[0m \u001b[39mif\u001b[39;00m eigvals[\u001b[39mself\u001b[39m\u001b[39m.\u001b[39mk \u001b[39m-\u001b[39m \u001b[39m1\u001b[39m] \u001b[39m<\u001b[39m \u001b[39m0\u001b[39m:\n\u001b[1;32m---> 31\u001b[0m     \u001b[39mraise\u001b[39;00m \u001b[39mException\u001b[39;00m(\u001b[39m\"\u001b[39m\u001b[39mSome of the first n_components eigenvalues are negative. Try lowering gamma or reducing n_components.\u001b[39m\u001b[39m\"\u001b[39m)\n\u001b[0;32m     33\u001b[0m \u001b[39m# Truncate to number of components\u001b[39;00m\n\u001b[0;32m     34\u001b[0m U \u001b[39m=\u001b[39m U[:, sorted_idx]\n",
      "\u001b[1;31mException\u001b[0m: Some of the first n_components eigenvalues are negative. Try lowering gamma or reducing n_components."
     ]
    }
   ],
   "source": [
    "# Silhouette Score for CPCA\n",
    "import seaborn as sns\n",
    "from sklearn.cluster import KMeans\n",
    "from sklearn.metrics import silhouette_score\n",
    "\n",
    "N_COMPONENTS = 2\n",
    "gamma_range_cpca = list(np.linspace(0, 200, 40))\n",
    "\n",
    "# CPCA\n",
    "cluster_scores_cpca = []\n",
    "cpca_gamma_plot_list = []\n",
    "\n",
    "for gamma in gamma_range_cpca:\n",
    "    cpca_model = CPCA(gamma=n / m * gamma, n_components=N_COMPONENTS)\n",
    "    X_reduced, Y_reduced = cpca_model.fit_transform(X_full, Y_full)\n",
    "\n",
    "\n",
    "    kmeans = KMeans(n_clusters=2, random_state=0).fit(X_reduced.T)\n",
    "\n",
    "    cpca_gamma_plot_list.append(gamma)\n",
    "    \n",
    "    true_labels = pd.factorize(X_df.Genotype)[0]\n",
    "    cluster_score = silhouette_score(X=X_reduced.T, labels=true_labels)\n",
    "    print(\"gamma'={}, cluster score={}\".format(gamma, cluster_score))\n",
    "    cluster_scores_cpca.append(cluster_score)"
   ]
  },
  {
   "cell_type": "code",
   "execution_count": 28,
   "metadata": {},
   "outputs": [
    {
     "name": "stderr",
     "output_type": "stream",
     "text": [
      "No artists with labels found to put in legend.  Note that artists whose label start with an underscore are ignored when legend() is called with no argument.\n"
     ]
    },
    {
     "data": {
      "text/plain": [
       "<matplotlib.legend.Legend at 0x15753e6f040>"
      ]
     },
     "execution_count": 28,
     "metadata": {},
     "output_type": "execute_result"
    },
    {
     "data": {
      "image/png": "[encoded data removed]",
      "text/plain": [
       "<Figure size 2736x504 with 1 Axes>"
      ]
     },
     "metadata": {
      "needs_background": "light"
     },
     "output_type": "display_data"
    }
   ],
   "source": [
    "# Silhouette Score Plot for CPCA\n",
    "plt.figure(figsize=(38, 7))\n",
    "plt.subplot(151)\n",
    "plt.plot(cpca_gamma_plot_list, cluster_scores_cpca, \"-o\", linewidth=2)\n",
    "plt.title(\"CPCA\")\n",
    "plt.ylim([0, 1])\n",
    "plt.xlim([0, cpca_gamma_plot_list[-1] + 40])\n",
    "#plt.axvline(cpca_fail_gamma, color=\"black\", linestyle=\"--\")\n",
    "plt.axhline(np.max(cluster_scores_cpca), color=\"red\", linestyle=\"--\")\n",
    "plt.xlabel(r\"$\\gamma^\\prime$\")\n",
    "plt.ylabel(\"Silhouette score\")\n",
    "plt.legend()"
   ]
  },
  {
   "cell_type": "code",
   "execution_count": 52,
   "metadata": {},
   "outputs": [
    {
     "data": {
      "text/html": [
       "<div>\n",
       "<style scoped>\n",
       "    .dataframe tbody tr th:only-of-type {\n",
       "        vertical-align: middle;\n",
       "    }\n",
       "\n",
       "    .dataframe tbody tr th {\n",
       "        vertical-align: top;\n",
       "    }\n",
       "\n",
       "    .dataframe thead th {\n",
       "        text-align: right;\n",
       "    }\n",
       "</style>\n",
       "<table border=\"1\" class=\"dataframe\">\n",
       "  <thead>\n",
       "    <tr style=\"text-align: right;\">\n",
       "      <th></th>\n",
       "      <th>MouseID</th>\n",
       "      <th>DYRK1A_N</th>\n",
       "      <th>ITSN1_N</th>\n",
       "      <th>BDNF_N</th>\n",
       "      <th>NR1_N</th>\n",
       "      <th>NR2A_N</th>\n",
       "      <th>pAKT_N</th>\n",
       "      <th>pBRAF_N</th>\n",
       "      <th>pCAMKII_N</th>\n",
       "      <th>pCREB_N</th>\n",
       "      <th>...</th>\n",
       "      <th>pCFOS_N</th>\n",
       "      <th>SYP_N</th>\n",
       "      <th>H3AcK18_N</th>\n",
       "      <th>EGR1_N</th>\n",
       "      <th>H3MeK4_N</th>\n",
       "      <th>CaNA_N</th>\n",
       "      <th>Genotype</th>\n",
       "      <th>Treatment</th>\n",
       "      <th>Behavior</th>\n",
       "      <th>class</th>\n",
       "    </tr>\n",
       "  </thead>\n",
       "  <tbody>\n",
       "    <tr>\n",
       "      <th>435</th>\n",
       "      <td>3422_1</td>\n",
       "      <td>0.304966</td>\n",
       "      <td>0.477769</td>\n",
       "      <td>0.319786</td>\n",
       "      <td>2.596944</td>\n",
       "      <td>4.447364</td>\n",
       "      <td>0.227196</td>\n",
       "      <td>0.176165</td>\n",
       "      <td>4.218640</td>\n",
       "      <td>0.203972</td>\n",
       "      <td>...</td>\n",
       "      <td>0.126152</td>\n",
       "      <td>0.418097</td>\n",
       "      <td>0.136876</td>\n",
       "      <td>0.175802</td>\n",
       "      <td>0.179059</td>\n",
       "      <td>0.959882</td>\n",
       "      <td>Control</td>\n",
       "      <td>Saline</td>\n",
       "      <td>S/C</td>\n",
       "      <td>c-SC-s</td>\n",
       "    </tr>\n",
       "    <tr>\n",
       "      <th>436</th>\n",
       "      <td>3422_2</td>\n",
       "      <td>0.298968</td>\n",
       "      <td>0.480565</td>\n",
       "      <td>0.315214</td>\n",
       "      <td>2.626784</td>\n",
       "      <td>4.473428</td>\n",
       "      <td>0.232007</td>\n",
       "      <td>0.175068</td>\n",
       "      <td>4.259338</td>\n",
       "      <td>0.201488</td>\n",
       "      <td>...</td>\n",
       "      <td>0.142504</td>\n",
       "      <td>0.399409</td>\n",
       "      <td>0.136197</td>\n",
       "      <td>0.181542</td>\n",
       "      <td>0.171803</td>\n",
       "      <td>0.934616</td>\n",
       "      <td>Control</td>\n",
       "      <td>Saline</td>\n",
       "      <td>S/C</td>\n",
       "      <td>c-SC-s</td>\n",
       "    </tr>\n",
       "    <tr>\n",
       "      <th>437</th>\n",
       "      <td>3422_3</td>\n",
       "      <td>0.303297</td>\n",
       "      <td>0.485640</td>\n",
       "      <td>0.321380</td>\n",
       "      <td>2.606443</td>\n",
       "      <td>4.681811</td>\n",
       "      <td>0.228233</td>\n",
       "      <td>0.173986</td>\n",
       "      <td>4.226105</td>\n",
       "      <td>0.208479</td>\n",
       "      <td>...</td>\n",
       "      <td>0.142271</td>\n",
       "      <td>0.398784</td>\n",
       "      <td>0.138876</td>\n",
       "      <td>0.186010</td>\n",
       "      <td>0.164061</td>\n",
       "      <td>0.870125</td>\n",
       "      <td>Control</td>\n",
       "      <td>Saline</td>\n",
       "      <td>S/C</td>\n",
       "      <td>c-SC-s</td>\n",
       "    </tr>\n",
       "    <tr>\n",
       "      <th>438</th>\n",
       "      <td>3422_4</td>\n",
       "      <td>0.303962</td>\n",
       "      <td>0.454134</td>\n",
       "      <td>0.314818</td>\n",
       "      <td>2.414511</td>\n",
       "      <td>4.004704</td>\n",
       "      <td>0.229781</td>\n",
       "      <td>0.182016</td>\n",
       "      <td>3.950606</td>\n",
       "      <td>0.196309</td>\n",
       "      <td>...</td>\n",
       "      <td>0.125603</td>\n",
       "      <td>0.399479</td>\n",
       "      <td>0.140942</td>\n",
       "      <td>0.187826</td>\n",
       "      <td>0.177889</td>\n",
       "      <td>1.000482</td>\n",
       "      <td>Control</td>\n",
       "      <td>Saline</td>\n",
       "      <td>S/C</td>\n",
       "      <td>c-SC-s</td>\n",
       "    </tr>\n",
       "    <tr>\n",
       "      <th>439</th>\n",
       "      <td>3422_5</td>\n",
       "      <td>0.302761</td>\n",
       "      <td>0.473041</td>\n",
       "      <td>0.322587</td>\n",
       "      <td>2.527886</td>\n",
       "      <td>4.099685</td>\n",
       "      <td>0.242727</td>\n",
       "      <td>0.180656</td>\n",
       "      <td>4.016491</td>\n",
       "      <td>0.197517</td>\n",
       "      <td>...</td>\n",
       "      <td>0.142253</td>\n",
       "      <td>0.393406</td>\n",
       "      <td>0.144848</td>\n",
       "      <td>0.197616</td>\n",
       "      <td>0.173395</td>\n",
       "      <td>0.983756</td>\n",
       "      <td>Control</td>\n",
       "      <td>Saline</td>\n",
       "      <td>S/C</td>\n",
       "      <td>c-SC-s</td>\n",
       "    </tr>\n",
       "    <tr>\n",
       "      <th>440</th>\n",
       "      <td>3422_6</td>\n",
       "      <td>0.326898</td>\n",
       "      <td>0.478725</td>\n",
       "      <td>0.315464</td>\n",
       "      <td>2.611246</td>\n",
       "      <td>4.242737</td>\n",
       "      <td>0.238238</td>\n",
       "      <td>0.176382</td>\n",
       "      <td>4.065042</td>\n",
       "      <td>0.201125</td>\n",
       "      <td>...</td>\n",
       "      <td>0.139441</td>\n",
       "      <td>0.427607</td>\n",
       "      <td>0.141692</td>\n",
       "      <td>0.210240</td>\n",
       "      <td>0.175919</td>\n",
       "      <td>0.890004</td>\n",
       "      <td>Control</td>\n",
       "      <td>Saline</td>\n",
       "      <td>S/C</td>\n",
       "      <td>c-SC-s</td>\n",
       "    </tr>\n",
       "    <tr>\n",
       "      <th>441</th>\n",
       "      <td>3422_7</td>\n",
       "      <td>0.287837</td>\n",
       "      <td>0.446959</td>\n",
       "      <td>0.312071</td>\n",
       "      <td>2.368999</td>\n",
       "      <td>3.576132</td>\n",
       "      <td>0.243484</td>\n",
       "      <td>0.187014</td>\n",
       "      <td>3.661866</td>\n",
       "      <td>0.200732</td>\n",
       "      <td>...</td>\n",
       "      <td>0.143539</td>\n",
       "      <td>0.364850</td>\n",
       "      <td>0.151745</td>\n",
       "      <td>0.207226</td>\n",
       "      <td>0.191304</td>\n",
       "      <td>0.974770</td>\n",
       "      <td>Control</td>\n",
       "      <td>Saline</td>\n",
       "      <td>S/C</td>\n",
       "      <td>c-SC-s</td>\n",
       "    </tr>\n",
       "    <tr>\n",
       "      <th>442</th>\n",
       "      <td>3422_8</td>\n",
       "      <td>0.293135</td>\n",
       "      <td>0.453547</td>\n",
       "      <td>0.308009</td>\n",
       "      <td>2.392220</td>\n",
       "      <td>3.738902</td>\n",
       "      <td>0.236384</td>\n",
       "      <td>0.191533</td>\n",
       "      <td>3.610984</td>\n",
       "      <td>0.196568</td>\n",
       "      <td>...</td>\n",
       "      <td>0.134814</td>\n",
       "      <td>0.368427</td>\n",
       "      <td>0.152941</td>\n",
       "      <td>0.209124</td>\n",
       "      <td>0.188956</td>\n",
       "      <td>0.928331</td>\n",
       "      <td>Control</td>\n",
       "      <td>Saline</td>\n",
       "      <td>S/C</td>\n",
       "      <td>c-SC-s</td>\n",
       "    </tr>\n",
       "    <tr>\n",
       "      <th>443</th>\n",
       "      <td>3422_9</td>\n",
       "      <td>0.283922</td>\n",
       "      <td>0.457013</td>\n",
       "      <td>0.322463</td>\n",
       "      <td>2.389054</td>\n",
       "      <td>3.763512</td>\n",
       "      <td>0.251311</td>\n",
       "      <td>0.186545</td>\n",
       "      <td>3.607526</td>\n",
       "      <td>0.192474</td>\n",
       "      <td>...</td>\n",
       "      <td>0.154992</td>\n",
       "      <td>0.372769</td>\n",
       "      <td>0.165210</td>\n",
       "      <td>0.227010</td>\n",
       "      <td>0.195125</td>\n",
       "      <td>0.950142</td>\n",
       "      <td>Control</td>\n",
       "      <td>Saline</td>\n",
       "      <td>S/C</td>\n",
       "      <td>c-SC-s</td>\n",
       "    </tr>\n",
       "    <tr>\n",
       "      <th>444</th>\n",
       "      <td>3422_10</td>\n",
       "      <td>0.299733</td>\n",
       "      <td>0.424000</td>\n",
       "      <td>0.309600</td>\n",
       "      <td>2.222667</td>\n",
       "      <td>3.219733</td>\n",
       "      <td>0.258133</td>\n",
       "      <td>0.190933</td>\n",
       "      <td>3.238133</td>\n",
       "      <td>0.183467</td>\n",
       "      <td>...</td>\n",
       "      <td>0.149251</td>\n",
       "      <td>0.365642</td>\n",
       "      <td>0.168250</td>\n",
       "      <td>0.232652</td>\n",
       "      <td>0.224602</td>\n",
       "      <td>0.993721</td>\n",
       "      <td>Control</td>\n",
       "      <td>Saline</td>\n",
       "      <td>S/C</td>\n",
       "      <td>c-SC-s</td>\n",
       "    </tr>\n",
       "  </tbody>\n",
       "</table>\n",
       "<p>10 rows × 82 columns</p>\n",
       "</div>"
      ],
      "text/plain": [
       "     MouseID  DYRK1A_N   ITSN1_N    BDNF_N     NR1_N    NR2A_N    pAKT_N  \\\n",
       "435   3422_1  0.304966  0.477769  0.319786  2.596944  4.447364  0.227196   \n",
       "436   3422_2  0.298968  0.480565  0.315214  2.626784  4.473428  0.232007   \n",
       "437   3422_3  0.303297  0.485640  0.321380  2.606443  4.681811  0.228233   \n",
       "438   3422_4  0.303962  0.454134  0.314818  2.414511  4.004704  0.229781   \n",
       "439   3422_5  0.302761  0.473041  0.322587  2.527886  4.099685  0.242727   \n",
       "440   3422_6  0.326898  0.478725  0.315464  2.611246  4.242737  0.238238   \n",
       "441   3422_7  0.287837  0.446959  0.312071  2.368999  3.576132  0.243484   \n",
       "442   3422_8  0.293135  0.453547  0.308009  2.392220  3.738902  0.236384   \n",
       "443   3422_9  0.283922  0.457013  0.322463  2.389054  3.763512  0.251311   \n",
       "444  3422_10  0.299733  0.424000  0.309600  2.222667  3.219733  0.258133   \n",
       "\n",
       "      pBRAF_N  pCAMKII_N   pCREB_N  ...   pCFOS_N     SYP_N  H3AcK18_N  \\\n",
       "435  0.176165   4.218640  0.203972  ...  0.126152  0.418097   0.136876   \n",
       "436  0.175068   4.259338  0.201488  ...  0.142504  0.399409   0.136197   \n",
       "437  0.173986   4.226105  0.208479  ...  0.142271  0.398784   0.138876   \n",
       "438  0.182016   3.950606  0.196309  ...  0.125603  0.399479   0.140942   \n",
       "439  0.180656   4.016491  0.197517  ...  0.142253  0.393406   0.144848   \n",
       "440  0.176382   4.065042  0.201125  ...  0.139441  0.427607   0.141692   \n",
       "441  0.187014   3.661866  0.200732  ...  0.143539  0.364850   0.151745   \n",
       "442  0.191533   3.610984  0.196568  ...  0.134814  0.368427   0.152941   \n",
       "443  0.186545   3.607526  0.192474  ...  0.154992  0.372769   0.165210   \n",
       "444  0.190933   3.238133  0.183467  ...  0.149251  0.365642   0.168250   \n",
       "\n",
       "       EGR1_N  H3MeK4_N    CaNA_N  Genotype  Treatment  Behavior   class  \n",
       "435  0.175802  0.179059  0.959882   Control     Saline       S/C  c-SC-s  \n",
       "436  0.181542  0.171803  0.934616   Control     Saline       S/C  c-SC-s  \n",
       "437  0.186010  0.164061  0.870125   Control     Saline       S/C  c-SC-s  \n",
       "438  0.187826  0.177889  1.000482   Control     Saline       S/C  c-SC-s  \n",
       "439  0.197616  0.173395  0.983756   Control     Saline       S/C  c-SC-s  \n",
       "440  0.210240  0.175919  0.890004   Control     Saline       S/C  c-SC-s  \n",
       "441  0.207226  0.191304  0.974770   Control     Saline       S/C  c-SC-s  \n",
       "442  0.209124  0.188956  0.928331   Control     Saline       S/C  c-SC-s  \n",
       "443  0.227010  0.195125  0.950142   Control     Saline       S/C  c-SC-s  \n",
       "444  0.232652  0.224602  0.993721   Control     Saline       S/C  c-SC-s  \n",
       "\n",
       "[10 rows x 82 columns]"
      ]
     },
     "execution_count": 52,
     "metadata": {},
     "output_type": "execute_result"
    }
   ],
   "source": [
    "X_df.head(10)"
   ]
  },
  {
   "cell_type": "code",
   "execution_count": 53,
   "metadata": {},
   "outputs": [
    {
     "name": "stdout",
     "output_type": "stream",
     "text": [
      "gamma'=0.0, cluster score=0.03621659752339404\n",
      "gamma'=0.025384615384615384, cluster score=0.0346055429281855\n",
      "gamma'=0.05076923076923077, cluster score=0.03304324854951505\n",
      "gamma'=0.07615384615384616, cluster score=0.031520201166313475\n",
      "gamma'=0.10153846153846154, cluster score=0.030028733015727657\n",
      "gamma'=0.12692307692307692, cluster score=0.028562697304451927\n",
      "gamma'=0.1523076923076923, cluster score=0.027117762711173957\n",
      "gamma'=0.17769230769230768, cluster score=0.025691229985298377\n",
      "gamma'=0.20307692307692307, cluster score=0.02427806653849609\n",
      "gamma'=0.22846153846153847, cluster score=0.022864947445256474\n",
      "gamma'=0.25384615384615383, cluster score=0.021470619481387294\n",
      "gamma'=0.2792307692307692, cluster score=0.02010072163582627\n",
      "gamma'=0.3046153846153846, cluster score=0.01876281430107531\n",
      "gamma'=0.33, cluster score=0.017466560035832853\n",
      "gamma'=0.35538461538461535, cluster score=0.016233154499855414\n",
      "gamma'=0.38076923076923075, cluster score=0.015088176390222212\n",
      "gamma'=0.40615384615384614, cluster score=0.014060510871051098\n",
      "gamma'=0.43153846153846154, cluster score=0.013177906666916477\n",
      "gamma'=0.45692307692307693, cluster score=0.012462347544199706\n",
      "gamma'=0.48230769230769227, cluster score=0.01192111674655637\n",
      "gamma'=0.5076923076923077, cluster score=0.011560311563965815\n",
      "gamma'=0.5330769230769231, cluster score=0.01136497315497903\n",
      "gamma'=0.5584615384615385, cluster score=0.011309820563549776\n",
      "gamma'=0.5838461538461538, cluster score=0.011365557258613298\n",
      "gamma'=0.6092307692307692, cluster score=0.011516774959568299\n",
      "gamma'=0.6346153846153846, cluster score=0.01175067636898422\n",
      "gamma'=0.66, cluster score=0.012050026317776267\n",
      "gamma'=0.6853846153846154, cluster score=0.012394725842570882\n",
      "gamma'=0.7107692307692307, cluster score=0.012776513577670942\n",
      "gamma'=0.7361538461538462, cluster score=0.013186689721509815\n",
      "gamma'=0.7615384615384615, cluster score=0.013615631726762858\n",
      "gamma'=0.786923076923077, cluster score=0.014066796230822604\n",
      "gamma'=0.8123076923076923, cluster score=0.014535689312111194\n",
      "gamma'=0.8376923076923076, cluster score=0.015021406955922705\n",
      "gamma'=0.8630769230769231, cluster score=0.015521498084407495\n",
      "gamma'=0.8884615384615384, cluster score=0.016033249572850718\n",
      "gamma'=0.9138461538461539, cluster score=0.016550033726165342\n",
      "gamma'=0.9392307692307692, cluster score=0.01707561107212831\n",
      "gamma'=0.9646153846153845, cluster score=0.01760504709221665\n",
      "gamma'=0.99, cluster score=0.018142054215473026\n"
     ]
    }
   ],
   "source": [
    "gamma_range_pcpca = list(np.linspace(0, 0.99, 40))\n",
    "N_COMPONENTS = 6\n",
    "# Silhouette Score for PCPCA\n",
    "cluster_scores_pcpca = []\n",
    "pcpca_gamma_plot_list = []\n",
    "\n",
    "for gamma in gamma_range_pcpca:\n",
    "    pcpca_model = PCPCA(gamma=n / m * gamma, n_components=N_COMPONENTS)\n",
    "    X_reduced, Y_reduced = pcpca_model.fit_transform(X_full, Y_full)\n",
    "\n",
    "    #kmeans = KMeans(n_clusters=2, random_state=0).fit(X_reduced.T)\n",
    "    data_full = np.concatenate((X_reduced.T, Y_reduced.T))\n",
    "\n",
    "    pcpca_gamma_plot_list.append(gamma)\n",
    "    true_labels = [\"0\"]*135+[\"1\"]*135+[\"2\"]*135\n",
    "    cluster_score = silhouette_score(X=data_full, labels=true_labels)\n",
    "    print(\"gamma'={}, cluster score={}\".format(gamma, cluster_score))\n",
    "    cluster_scores_pcpca.append(cluster_score)"
   ]
  },
  {
   "cell_type": "code",
   "execution_count": 48,
   "metadata": {},
   "outputs": [
    {
     "name": "stderr",
     "output_type": "stream",
     "text": [
      "C:\\Users\\ASUS\\AppData\\Local\\Temp\\ipykernel_36224\\2730386441.py:6: UserWarning: The palette list has more values (405) than needed (2), which may not be intended.\n",
      "  sns.scatterplot(\n"
     ]
    },
    {
     "ename": "ValueError",
     "evalue": "Invalid RGBA argument: 0",
     "output_type": "error",
     "traceback": [
      "\u001b[1;31m---------------------------------------------------------------------------\u001b[0m",
      "\u001b[1;31mValueError\u001b[0m                                Traceback (most recent call last)",
      "\u001b[1;32mc:\\Users\\ASUS\\Desktop\\DSA4199 FYP\\PCPCA\\CPCA & PCPCA\\Mouse protein expression\\mouse-protein python-compare.ipynb Cell 18\u001b[0m in \u001b[0;36m<module>\u001b[1;34m\u001b[0m\n\u001b[0;32m      <a href='vscode-notebook-cell:/c%3A/Users/ASUS/Desktop/DSA4199%20FYP/PCPCA/CPCA%20%26%20PCPCA/Mouse%20protein%20expression/mouse-protein%20python-compare.ipynb#X24sZmlsZQ%3D%3D?line=1'>2</a>\u001b[0m data_full\u001b[39m.\u001b[39mshape\n\u001b[0;32m      <a href='vscode-notebook-cell:/c%3A/Users/ASUS/Desktop/DSA4199%20FYP/PCPCA/CPCA%20%26%20PCPCA/Mouse%20protein%20expression/mouse-protein%20python-compare.ipynb#X24sZmlsZQ%3D%3D?line=3'>4</a>\u001b[0m \u001b[39mimport\u001b[39;00m \u001b[39mseaborn\u001b[39;00m \u001b[39mas\u001b[39;00m \u001b[39msns\u001b[39;00m\n\u001b[1;32m----> <a href='vscode-notebook-cell:/c%3A/Users/ASUS/Desktop/DSA4199%20FYP/PCPCA/CPCA%20%26%20PCPCA/Mouse%20protein%20expression/mouse-protein%20python-compare.ipynb#X24sZmlsZQ%3D%3D?line=5'>6</a>\u001b[0m sns\u001b[39m.\u001b[39;49mscatterplot(\n\u001b[0;32m      <a href='vscode-notebook-cell:/c%3A/Users/ASUS/Desktop/DSA4199%20FYP/PCPCA/CPCA%20%26%20PCPCA/Mouse%20protein%20expression/mouse-protein%20python-compare.ipynb#X24sZmlsZQ%3D%3D?line=6'>7</a>\u001b[0m     data\u001b[39m=\u001b[39;49mdata_full,\n\u001b[0;32m      <a href='vscode-notebook-cell:/c%3A/Users/ASUS/Desktop/DSA4199%20FYP/PCPCA/CPCA%20%26%20PCPCA/Mouse%20protein%20expression/mouse-protein%20python-compare.ipynb#X24sZmlsZQ%3D%3D?line=7'>8</a>\u001b[0m     palette\u001b[39m=\u001b[39;49mtrue_labels,\n\u001b[0;32m      <a href='vscode-notebook-cell:/c%3A/Users/ASUS/Desktop/DSA4199%20FYP/PCPCA/CPCA%20%26%20PCPCA/Mouse%20protein%20expression/mouse-protein%20python-compare.ipynb#X24sZmlsZQ%3D%3D?line=8'>9</a>\u001b[0m )\n",
      "File \u001b[1;32mc:\\Users\\ASUS\\AppData\\Local\\Programs\\Python\\Python39\\lib\\site-packages\\seaborn\\relational.py:761\u001b[0m, in \u001b[0;36mscatterplot\u001b[1;34m(data, x, y, hue, size, style, palette, hue_order, hue_norm, sizes, size_order, size_norm, markers, style_order, legend, ax, **kwargs)\u001b[0m\n\u001b[0;32m    758\u001b[0m color \u001b[39m=\u001b[39m kwargs\u001b[39m.\u001b[39mpop(\u001b[39m\"\u001b[39m\u001b[39mcolor\u001b[39m\u001b[39m\"\u001b[39m, \u001b[39mNone\u001b[39;00m)\n\u001b[0;32m    759\u001b[0m kwargs[\u001b[39m\"\u001b[39m\u001b[39mcolor\u001b[39m\u001b[39m\"\u001b[39m] \u001b[39m=\u001b[39m _default_color(ax\u001b[39m.\u001b[39mscatter, hue, color, kwargs)\n\u001b[1;32m--> 761\u001b[0m p\u001b[39m.\u001b[39;49mplot(ax, kwargs)\n\u001b[0;32m    763\u001b[0m \u001b[39mreturn\u001b[39;00m ax\n",
      "File \u001b[1;32mc:\\Users\\ASUS\\AppData\\Local\\Programs\\Python\\Python39\\lib\\site-packages\\seaborn\\relational.py:578\u001b[0m, in \u001b[0;36m_ScatterPlotter.plot\u001b[1;34m(self, ax, kws)\u001b[0m\n\u001b[0;32m    575\u001b[0m \u001b[39m# Apply the mapping from semantic variables to artist attributes\u001b[39;00m\n\u001b[0;32m    577\u001b[0m \u001b[39mif\u001b[39;00m \u001b[39m\"\u001b[39m\u001b[39mhue\u001b[39m\u001b[39m\"\u001b[39m \u001b[39min\u001b[39;00m \u001b[39mself\u001b[39m\u001b[39m.\u001b[39mvariables:\n\u001b[1;32m--> 578\u001b[0m     points\u001b[39m.\u001b[39;49mset_facecolors(\u001b[39mself\u001b[39;49m\u001b[39m.\u001b[39;49m_hue_map(data[\u001b[39m\"\u001b[39;49m\u001b[39mhue\u001b[39;49m\u001b[39m\"\u001b[39;49m]))\n\u001b[0;32m    580\u001b[0m \u001b[39mif\u001b[39;00m \u001b[39m\"\u001b[39m\u001b[39msize\u001b[39m\u001b[39m\"\u001b[39m \u001b[39min\u001b[39;00m \u001b[39mself\u001b[39m\u001b[39m.\u001b[39mvariables:\n\u001b[0;32m    581\u001b[0m     points\u001b[39m.\u001b[39mset_sizes(\u001b[39mself\u001b[39m\u001b[39m.\u001b[39m_size_map(data[\u001b[39m\"\u001b[39m\u001b[39msize\u001b[39m\u001b[39m\"\u001b[39m]))\n",
      "File \u001b[1;32mc:\\Users\\ASUS\\AppData\\Local\\Programs\\Python\\Python39\\lib\\site-packages\\matplotlib\\_api\\__init__.py:254\u001b[0m, in \u001b[0;36mdefine_aliases.<locals>.make_alias.<locals>.method\u001b[1;34m(self, *args, **kwargs)\u001b[0m\n\u001b[0;32m    252\u001b[0m \u001b[39m@functools\u001b[39m\u001b[39m.\u001b[39mwraps(\u001b[39mgetattr\u001b[39m(\u001b[39mcls\u001b[39m, name))\n\u001b[0;32m    253\u001b[0m \u001b[39mdef\u001b[39;00m \u001b[39mmethod\u001b[39m(\u001b[39mself\u001b[39m, \u001b[39m*\u001b[39margs, \u001b[39m*\u001b[39m\u001b[39m*\u001b[39mkwargs):\n\u001b[1;32m--> 254\u001b[0m     \u001b[39mreturn\u001b[39;00m \u001b[39mgetattr\u001b[39m(\u001b[39mself\u001b[39m, name)(\u001b[39m*\u001b[39margs, \u001b[39m*\u001b[39m\u001b[39m*\u001b[39mkwargs)\n",
      "File \u001b[1;32mc:\\Users\\ASUS\\AppData\\Local\\Programs\\Python\\Python39\\lib\\site-packages\\matplotlib\\collections.py:755\u001b[0m, in \u001b[0;36mCollection.set_facecolor\u001b[1;34m(self, c)\u001b[0m\n\u001b[0;32m    753\u001b[0m     c \u001b[39m=\u001b[39m c\u001b[39m.\u001b[39mlower()\n\u001b[0;32m    754\u001b[0m \u001b[39mself\u001b[39m\u001b[39m.\u001b[39m_original_facecolor \u001b[39m=\u001b[39m c\n\u001b[1;32m--> 755\u001b[0m \u001b[39mself\u001b[39;49m\u001b[39m.\u001b[39;49m_set_facecolor(c)\n",
      "File \u001b[1;32mc:\\Users\\ASUS\\AppData\\Local\\Programs\\Python\\Python39\\lib\\site-packages\\matplotlib\\collections.py:737\u001b[0m, in \u001b[0;36mCollection._set_facecolor\u001b[1;34m(self, c)\u001b[0m\n\u001b[0;32m    734\u001b[0m \u001b[39mif\u001b[39;00m c \u001b[39mis\u001b[39;00m \u001b[39mNone\u001b[39;00m:\n\u001b[0;32m    735\u001b[0m     c \u001b[39m=\u001b[39m \u001b[39mself\u001b[39m\u001b[39m.\u001b[39m_get_default_facecolor()\n\u001b[1;32m--> 737\u001b[0m \u001b[39mself\u001b[39m\u001b[39m.\u001b[39m_facecolors \u001b[39m=\u001b[39m mcolors\u001b[39m.\u001b[39;49mto_rgba_array(c, \u001b[39mself\u001b[39;49m\u001b[39m.\u001b[39;49m_alpha)\n\u001b[0;32m    738\u001b[0m \u001b[39mself\u001b[39m\u001b[39m.\u001b[39mstale \u001b[39m=\u001b[39m \u001b[39mTrue\u001b[39;00m\n",
      "File \u001b[1;32mc:\\Users\\ASUS\\AppData\\Local\\Programs\\Python\\Python39\\lib\\site-packages\\matplotlib\\colors.py:485\u001b[0m, in \u001b[0;36mto_rgba_array\u001b[1;34m(c, alpha)\u001b[0m\n\u001b[0;32m    483\u001b[0m         rgba \u001b[39m=\u001b[39m np\u001b[39m.\u001b[39marray(c)\n\u001b[0;32m    484\u001b[0m     \u001b[39melse\u001b[39;00m:\n\u001b[1;32m--> 485\u001b[0m         rgba \u001b[39m=\u001b[39m np\u001b[39m.\u001b[39marray([to_rgba(cc) \u001b[39mfor\u001b[39;00m cc \u001b[39min\u001b[39;00m c])\n\u001b[0;32m    486\u001b[0m \u001b[39melse\u001b[39;00m:\n\u001b[0;32m    487\u001b[0m     rgba \u001b[39m=\u001b[39m np\u001b[39m.\u001b[39marray([to_rgba(cc) \u001b[39mfor\u001b[39;00m cc \u001b[39min\u001b[39;00m c])\n",
      "File \u001b[1;32mc:\\Users\\ASUS\\AppData\\Local\\Programs\\Python\\Python39\\lib\\site-packages\\matplotlib\\colors.py:485\u001b[0m, in \u001b[0;36m<listcomp>\u001b[1;34m(.0)\u001b[0m\n\u001b[0;32m    483\u001b[0m         rgba \u001b[39m=\u001b[39m np\u001b[39m.\u001b[39marray(c)\n\u001b[0;32m    484\u001b[0m     \u001b[39melse\u001b[39;00m:\n\u001b[1;32m--> 485\u001b[0m         rgba \u001b[39m=\u001b[39m np\u001b[39m.\u001b[39marray([to_rgba(cc) \u001b[39mfor\u001b[39;00m cc \u001b[39min\u001b[39;00m c])\n\u001b[0;32m    486\u001b[0m \u001b[39melse\u001b[39;00m:\n\u001b[0;32m    487\u001b[0m     rgba \u001b[39m=\u001b[39m np\u001b[39m.\u001b[39marray([to_rgba(cc) \u001b[39mfor\u001b[39;00m cc \u001b[39min\u001b[39;00m c])\n",
      "File \u001b[1;32mc:\\Users\\ASUS\\AppData\\Local\\Programs\\Python\\Python39\\lib\\site-packages\\matplotlib\\colors.py:299\u001b[0m, in \u001b[0;36mto_rgba\u001b[1;34m(c, alpha)\u001b[0m\n\u001b[0;32m    297\u001b[0m     rgba \u001b[39m=\u001b[39m \u001b[39mNone\u001b[39;00m\n\u001b[0;32m    298\u001b[0m \u001b[39mif\u001b[39;00m rgba \u001b[39mis\u001b[39;00m \u001b[39mNone\u001b[39;00m:  \u001b[39m# Suppress exception chaining of cache lookup failure.\u001b[39;00m\n\u001b[1;32m--> 299\u001b[0m     rgba \u001b[39m=\u001b[39m _to_rgba_no_colorcycle(c, alpha)\n\u001b[0;32m    300\u001b[0m     \u001b[39mtry\u001b[39;00m:\n\u001b[0;32m    301\u001b[0m         _colors_full_map\u001b[39m.\u001b[39mcache[c, alpha] \u001b[39m=\u001b[39m rgba\n",
      "File \u001b[1;32mc:\\Users\\ASUS\\AppData\\Local\\Programs\\Python\\Python39\\lib\\site-packages\\matplotlib\\colors.py:381\u001b[0m, in \u001b[0;36m_to_rgba_no_colorcycle\u001b[1;34m(c, alpha)\u001b[0m\n\u001b[0;32m    379\u001b[0m \u001b[39m# tuple color.\u001b[39;00m\n\u001b[0;32m    380\u001b[0m \u001b[39mif\u001b[39;00m \u001b[39mnot\u001b[39;00m np\u001b[39m.\u001b[39miterable(c):\n\u001b[1;32m--> 381\u001b[0m     \u001b[39mraise\u001b[39;00m \u001b[39mValueError\u001b[39;00m(\u001b[39mf\u001b[39m\u001b[39m\"\u001b[39m\u001b[39mInvalid RGBA argument: \u001b[39m\u001b[39m{\u001b[39;00morig_c\u001b[39m!r}\u001b[39;00m\u001b[39m\"\u001b[39m)\n\u001b[0;32m    382\u001b[0m \u001b[39mif\u001b[39;00m \u001b[39mlen\u001b[39m(c) \u001b[39mnot\u001b[39;00m \u001b[39min\u001b[39;00m [\u001b[39m3\u001b[39m, \u001b[39m4\u001b[39m]:\n\u001b[0;32m    383\u001b[0m     \u001b[39mraise\u001b[39;00m \u001b[39mValueError\u001b[39;00m(\u001b[39m\"\u001b[39m\u001b[39mRGBA sequence should have length 3 or 4\u001b[39m\u001b[39m\"\u001b[39m)\n",
      "\u001b[1;31mValueError\u001b[0m: Invalid RGBA argument: 0"
     ]
    },
    {
     "name": "stdout",
     "output_type": "stream",
     "text": [
      "Error in callback <function _draw_all_if_interactive at 0x000001572B7FF670> (for post_execute):\n"
     ]
    },
    {
     "ename": "ValueError",
     "evalue": "Invalid RGBA argument: 0",
     "output_type": "error",
     "traceback": [
      "\u001b[1;31m---------------------------------------------------------------------------\u001b[0m",
      "\u001b[1;31mValueError\u001b[0m                                Traceback (most recent call last)",
      "File \u001b[1;32mc:\\Users\\ASUS\\AppData\\Local\\Programs\\Python\\Python39\\lib\\site-packages\\matplotlib\\pyplot.py:119\u001b[0m, in \u001b[0;36m_draw_all_if_interactive\u001b[1;34m()\u001b[0m\n\u001b[0;32m    117\u001b[0m \u001b[39mdef\u001b[39;00m \u001b[39m_draw_all_if_interactive\u001b[39m():\n\u001b[0;32m    118\u001b[0m     \u001b[39mif\u001b[39;00m matplotlib\u001b[39m.\u001b[39mis_interactive():\n\u001b[1;32m--> 119\u001b[0m         draw_all()\n",
      "File \u001b[1;32mc:\\Users\\ASUS\\AppData\\Local\\Programs\\Python\\Python39\\lib\\site-packages\\matplotlib\\_pylab_helpers.py:132\u001b[0m, in \u001b[0;36mGcf.draw_all\u001b[1;34m(cls, force)\u001b[0m\n\u001b[0;32m    130\u001b[0m \u001b[39mfor\u001b[39;00m manager \u001b[39min\u001b[39;00m \u001b[39mcls\u001b[39m\u001b[39m.\u001b[39mget_all_fig_managers():\n\u001b[0;32m    131\u001b[0m     \u001b[39mif\u001b[39;00m force \u001b[39mor\u001b[39;00m manager\u001b[39m.\u001b[39mcanvas\u001b[39m.\u001b[39mfigure\u001b[39m.\u001b[39mstale:\n\u001b[1;32m--> 132\u001b[0m         manager\u001b[39m.\u001b[39;49mcanvas\u001b[39m.\u001b[39;49mdraw_idle()\n",
      "File \u001b[1;32mc:\\Users\\ASUS\\AppData\\Local\\Programs\\Python\\Python39\\lib\\site-packages\\matplotlib\\backend_bases.py:2054\u001b[0m, in \u001b[0;36mFigureCanvasBase.draw_idle\u001b[1;34m(self, *args, **kwargs)\u001b[0m\n\u001b[0;32m   2052\u001b[0m \u001b[39mif\u001b[39;00m \u001b[39mnot\u001b[39;00m \u001b[39mself\u001b[39m\u001b[39m.\u001b[39m_is_idle_drawing:\n\u001b[0;32m   2053\u001b[0m     \u001b[39mwith\u001b[39;00m \u001b[39mself\u001b[39m\u001b[39m.\u001b[39m_idle_draw_cntx():\n\u001b[1;32m-> 2054\u001b[0m         \u001b[39mself\u001b[39m\u001b[39m.\u001b[39mdraw(\u001b[39m*\u001b[39margs, \u001b[39m*\u001b[39m\u001b[39m*\u001b[39mkwargs)\n",
      "File \u001b[1;32mc:\\Users\\ASUS\\AppData\\Local\\Programs\\Python\\Python39\\lib\\site-packages\\matplotlib\\backends\\backend_agg.py:405\u001b[0m, in \u001b[0;36mFigureCanvasAgg.draw\u001b[1;34m(self)\u001b[0m\n\u001b[0;32m    401\u001b[0m \u001b[39m# Acquire a lock on the shared font cache.\u001b[39;00m\n\u001b[0;32m    402\u001b[0m \u001b[39mwith\u001b[39;00m RendererAgg\u001b[39m.\u001b[39mlock, \\\n\u001b[0;32m    403\u001b[0m      (\u001b[39mself\u001b[39m\u001b[39m.\u001b[39mtoolbar\u001b[39m.\u001b[39m_wait_cursor_for_draw_cm() \u001b[39mif\u001b[39;00m \u001b[39mself\u001b[39m\u001b[39m.\u001b[39mtoolbar\n\u001b[0;32m    404\u001b[0m       \u001b[39melse\u001b[39;00m nullcontext()):\n\u001b[1;32m--> 405\u001b[0m     \u001b[39mself\u001b[39;49m\u001b[39m.\u001b[39;49mfigure\u001b[39m.\u001b[39;49mdraw(\u001b[39mself\u001b[39;49m\u001b[39m.\u001b[39;49mrenderer)\n\u001b[0;32m    406\u001b[0m     \u001b[39m# A GUI class may be need to update a window using this draw, so\u001b[39;00m\n\u001b[0;32m    407\u001b[0m     \u001b[39m# don't forget to call the superclass.\u001b[39;00m\n\u001b[0;32m    408\u001b[0m     \u001b[39msuper\u001b[39m()\u001b[39m.\u001b[39mdraw()\n",
      "File \u001b[1;32mc:\\Users\\ASUS\\AppData\\Local\\Programs\\Python\\Python39\\lib\\site-packages\\matplotlib\\artist.py:74\u001b[0m, in \u001b[0;36m_finalize_rasterization.<locals>.draw_wrapper\u001b[1;34m(artist, renderer, *args, **kwargs)\u001b[0m\n\u001b[0;32m     72\u001b[0m \u001b[39m@wraps\u001b[39m(draw)\n\u001b[0;32m     73\u001b[0m \u001b[39mdef\u001b[39;00m \u001b[39mdraw_wrapper\u001b[39m(artist, renderer, \u001b[39m*\u001b[39margs, \u001b[39m*\u001b[39m\u001b[39m*\u001b[39mkwargs):\n\u001b[1;32m---> 74\u001b[0m     result \u001b[39m=\u001b[39m draw(artist, renderer, \u001b[39m*\u001b[39margs, \u001b[39m*\u001b[39m\u001b[39m*\u001b[39mkwargs)\n\u001b[0;32m     75\u001b[0m     \u001b[39mif\u001b[39;00m renderer\u001b[39m.\u001b[39m_rasterizing:\n\u001b[0;32m     76\u001b[0m         renderer\u001b[39m.\u001b[39mstop_rasterizing()\n",
      "File \u001b[1;32mc:\\Users\\ASUS\\AppData\\Local\\Programs\\Python\\Python39\\lib\\site-packages\\matplotlib\\artist.py:51\u001b[0m, in \u001b[0;36mallow_rasterization.<locals>.draw_wrapper\u001b[1;34m(artist, renderer)\u001b[0m\n\u001b[0;32m     48\u001b[0m     \u001b[39mif\u001b[39;00m artist\u001b[39m.\u001b[39mget_agg_filter() \u001b[39mis\u001b[39;00m \u001b[39mnot\u001b[39;00m \u001b[39mNone\u001b[39;00m:\n\u001b[0;32m     49\u001b[0m         renderer\u001b[39m.\u001b[39mstart_filter()\n\u001b[1;32m---> 51\u001b[0m     \u001b[39mreturn\u001b[39;00m draw(artist, renderer)\n\u001b[0;32m     52\u001b[0m \u001b[39mfinally\u001b[39;00m:\n\u001b[0;32m     53\u001b[0m     \u001b[39mif\u001b[39;00m artist\u001b[39m.\u001b[39mget_agg_filter() \u001b[39mis\u001b[39;00m \u001b[39mnot\u001b[39;00m \u001b[39mNone\u001b[39;00m:\n",
      "File \u001b[1;32mc:\\Users\\ASUS\\AppData\\Local\\Programs\\Python\\Python39\\lib\\site-packages\\matplotlib\\figure.py:3071\u001b[0m, in \u001b[0;36mFigure.draw\u001b[1;34m(self, renderer)\u001b[0m\n\u001b[0;32m   3068\u001b[0m         \u001b[39m# ValueError can occur when resizing a window.\u001b[39;00m\n\u001b[0;32m   3070\u001b[0m \u001b[39mself\u001b[39m\u001b[39m.\u001b[39mpatch\u001b[39m.\u001b[39mdraw(renderer)\n\u001b[1;32m-> 3071\u001b[0m mimage\u001b[39m.\u001b[39;49m_draw_list_compositing_images(\n\u001b[0;32m   3072\u001b[0m     renderer, \u001b[39mself\u001b[39;49m, artists, \u001b[39mself\u001b[39;49m\u001b[39m.\u001b[39;49msuppressComposite)\n\u001b[0;32m   3074\u001b[0m \u001b[39mfor\u001b[39;00m sfig \u001b[39min\u001b[39;00m \u001b[39mself\u001b[39m\u001b[39m.\u001b[39msubfigs:\n\u001b[0;32m   3075\u001b[0m     sfig\u001b[39m.\u001b[39mdraw(renderer)\n",
      "File \u001b[1;32mc:\\Users\\ASUS\\AppData\\Local\\Programs\\Python\\Python39\\lib\\site-packages\\matplotlib\\image.py:131\u001b[0m, in \u001b[0;36m_draw_list_compositing_images\u001b[1;34m(renderer, parent, artists, suppress_composite)\u001b[0m\n\u001b[0;32m    129\u001b[0m \u001b[39mif\u001b[39;00m not_composite \u001b[39mor\u001b[39;00m \u001b[39mnot\u001b[39;00m has_images:\n\u001b[0;32m    130\u001b[0m     \u001b[39mfor\u001b[39;00m a \u001b[39min\u001b[39;00m artists:\n\u001b[1;32m--> 131\u001b[0m         a\u001b[39m.\u001b[39;49mdraw(renderer)\n\u001b[0;32m    132\u001b[0m \u001b[39melse\u001b[39;00m:\n\u001b[0;32m    133\u001b[0m     \u001b[39m# Composite any adjacent images together\u001b[39;00m\n\u001b[0;32m    134\u001b[0m     image_group \u001b[39m=\u001b[39m []\n",
      "File \u001b[1;32mc:\\Users\\ASUS\\AppData\\Local\\Programs\\Python\\Python39\\lib\\site-packages\\matplotlib\\artist.py:51\u001b[0m, in \u001b[0;36mallow_rasterization.<locals>.draw_wrapper\u001b[1;34m(artist, renderer)\u001b[0m\n\u001b[0;32m     48\u001b[0m     \u001b[39mif\u001b[39;00m artist\u001b[39m.\u001b[39mget_agg_filter() \u001b[39mis\u001b[39;00m \u001b[39mnot\u001b[39;00m \u001b[39mNone\u001b[39;00m:\n\u001b[0;32m     49\u001b[0m         renderer\u001b[39m.\u001b[39mstart_filter()\n\u001b[1;32m---> 51\u001b[0m     \u001b[39mreturn\u001b[39;00m draw(artist, renderer)\n\u001b[0;32m     52\u001b[0m \u001b[39mfinally\u001b[39;00m:\n\u001b[0;32m     53\u001b[0m     \u001b[39mif\u001b[39;00m artist\u001b[39m.\u001b[39mget_agg_filter() \u001b[39mis\u001b[39;00m \u001b[39mnot\u001b[39;00m \u001b[39mNone\u001b[39;00m:\n",
      "File \u001b[1;32mc:\\Users\\ASUS\\AppData\\Local\\Programs\\Python\\Python39\\lib\\site-packages\\matplotlib\\axes\\_base.py:3107\u001b[0m, in \u001b[0;36m_AxesBase.draw\u001b[1;34m(self, renderer)\u001b[0m\n\u001b[0;32m   3104\u001b[0m         a\u001b[39m.\u001b[39mdraw(renderer)\n\u001b[0;32m   3105\u001b[0m     renderer\u001b[39m.\u001b[39mstop_rasterizing()\n\u001b[1;32m-> 3107\u001b[0m mimage\u001b[39m.\u001b[39;49m_draw_list_compositing_images(\n\u001b[0;32m   3108\u001b[0m     renderer, \u001b[39mself\u001b[39;49m, artists, \u001b[39mself\u001b[39;49m\u001b[39m.\u001b[39;49mfigure\u001b[39m.\u001b[39;49msuppressComposite)\n\u001b[0;32m   3110\u001b[0m renderer\u001b[39m.\u001b[39mclose_group(\u001b[39m'\u001b[39m\u001b[39maxes\u001b[39m\u001b[39m'\u001b[39m)\n\u001b[0;32m   3111\u001b[0m \u001b[39mself\u001b[39m\u001b[39m.\u001b[39mstale \u001b[39m=\u001b[39m \u001b[39mFalse\u001b[39;00m\n",
      "File \u001b[1;32mc:\\Users\\ASUS\\AppData\\Local\\Programs\\Python\\Python39\\lib\\site-packages\\matplotlib\\image.py:131\u001b[0m, in \u001b[0;36m_draw_list_compositing_images\u001b[1;34m(renderer, parent, artists, suppress_composite)\u001b[0m\n\u001b[0;32m    129\u001b[0m \u001b[39mif\u001b[39;00m not_composite \u001b[39mor\u001b[39;00m \u001b[39mnot\u001b[39;00m has_images:\n\u001b[0;32m    130\u001b[0m     \u001b[39mfor\u001b[39;00m a \u001b[39min\u001b[39;00m artists:\n\u001b[1;32m--> 131\u001b[0m         a\u001b[39m.\u001b[39;49mdraw(renderer)\n\u001b[0;32m    132\u001b[0m \u001b[39melse\u001b[39;00m:\n\u001b[0;32m    133\u001b[0m     \u001b[39m# Composite any adjacent images together\u001b[39;00m\n\u001b[0;32m    134\u001b[0m     image_group \u001b[39m=\u001b[39m []\n",
      "File \u001b[1;32mc:\\Users\\ASUS\\AppData\\Local\\Programs\\Python\\Python39\\lib\\site-packages\\matplotlib\\artist.py:51\u001b[0m, in \u001b[0;36mallow_rasterization.<locals>.draw_wrapper\u001b[1;34m(artist, renderer)\u001b[0m\n\u001b[0;32m     48\u001b[0m     \u001b[39mif\u001b[39;00m artist\u001b[39m.\u001b[39mget_agg_filter() \u001b[39mis\u001b[39;00m \u001b[39mnot\u001b[39;00m \u001b[39mNone\u001b[39;00m:\n\u001b[0;32m     49\u001b[0m         renderer\u001b[39m.\u001b[39mstart_filter()\n\u001b[1;32m---> 51\u001b[0m     \u001b[39mreturn\u001b[39;00m draw(artist, renderer)\n\u001b[0;32m     52\u001b[0m \u001b[39mfinally\u001b[39;00m:\n\u001b[0;32m     53\u001b[0m     \u001b[39mif\u001b[39;00m artist\u001b[39m.\u001b[39mget_agg_filter() \u001b[39mis\u001b[39;00m \u001b[39mnot\u001b[39;00m \u001b[39mNone\u001b[39;00m:\n",
      "File \u001b[1;32mc:\\Users\\ASUS\\AppData\\Local\\Programs\\Python\\Python39\\lib\\site-packages\\matplotlib\\collections.py:976\u001b[0m, in \u001b[0;36m_CollectionWithSizes.draw\u001b[1;34m(self, renderer)\u001b[0m\n\u001b[0;32m    973\u001b[0m \u001b[39m@artist\u001b[39m\u001b[39m.\u001b[39mallow_rasterization\n\u001b[0;32m    974\u001b[0m \u001b[39mdef\u001b[39;00m \u001b[39mdraw\u001b[39m(\u001b[39mself\u001b[39m, renderer):\n\u001b[0;32m    975\u001b[0m     \u001b[39mself\u001b[39m\u001b[39m.\u001b[39mset_sizes(\u001b[39mself\u001b[39m\u001b[39m.\u001b[39m_sizes, \u001b[39mself\u001b[39m\u001b[39m.\u001b[39mfigure\u001b[39m.\u001b[39mdpi)\n\u001b[1;32m--> 976\u001b[0m     \u001b[39msuper\u001b[39;49m()\u001b[39m.\u001b[39;49mdraw(renderer)\n",
      "File \u001b[1;32mc:\\Users\\ASUS\\AppData\\Local\\Programs\\Python\\Python39\\lib\\site-packages\\matplotlib\\artist.py:51\u001b[0m, in \u001b[0;36mallow_rasterization.<locals>.draw_wrapper\u001b[1;34m(artist, renderer)\u001b[0m\n\u001b[0;32m     48\u001b[0m     \u001b[39mif\u001b[39;00m artist\u001b[39m.\u001b[39mget_agg_filter() \u001b[39mis\u001b[39;00m \u001b[39mnot\u001b[39;00m \u001b[39mNone\u001b[39;00m:\n\u001b[0;32m     49\u001b[0m         renderer\u001b[39m.\u001b[39mstart_filter()\n\u001b[1;32m---> 51\u001b[0m     \u001b[39mreturn\u001b[39;00m draw(artist, renderer)\n\u001b[0;32m     52\u001b[0m \u001b[39mfinally\u001b[39;00m:\n\u001b[0;32m     53\u001b[0m     \u001b[39mif\u001b[39;00m artist\u001b[39m.\u001b[39mget_agg_filter() \u001b[39mis\u001b[39;00m \u001b[39mnot\u001b[39;00m \u001b[39mNone\u001b[39;00m:\n",
      "File \u001b[1;32mc:\\Users\\ASUS\\AppData\\Local\\Programs\\Python\\Python39\\lib\\site-packages\\matplotlib\\collections.py:350\u001b[0m, in \u001b[0;36mCollection.draw\u001b[1;34m(self, renderer)\u001b[0m\n\u001b[0;32m    347\u001b[0m     \u001b[39mreturn\u001b[39;00m\n\u001b[0;32m    348\u001b[0m renderer\u001b[39m.\u001b[39mopen_group(\u001b[39mself\u001b[39m\u001b[39m.\u001b[39m\u001b[39m__class__\u001b[39m\u001b[39m.\u001b[39m\u001b[39m__name__\u001b[39m, \u001b[39mself\u001b[39m\u001b[39m.\u001b[39mget_gid())\n\u001b[1;32m--> 350\u001b[0m \u001b[39mself\u001b[39;49m\u001b[39m.\u001b[39;49mupdate_scalarmappable()\n\u001b[0;32m    352\u001b[0m transform, offset_trf, offsets, paths \u001b[39m=\u001b[39m \u001b[39mself\u001b[39m\u001b[39m.\u001b[39m_prepare_points()\n\u001b[0;32m    354\u001b[0m gc \u001b[39m=\u001b[39m renderer\u001b[39m.\u001b[39mnew_gc()\n",
      "File \u001b[1;32mc:\\Users\\ASUS\\AppData\\Local\\Programs\\Python\\Python39\\lib\\site-packages\\matplotlib\\collections.py:896\u001b[0m, in \u001b[0;36mCollection.update_scalarmappable\u001b[1;34m(self)\u001b[0m\n\u001b[0;32m    894\u001b[0m     \u001b[39mself\u001b[39m\u001b[39m.\u001b[39m_facecolors \u001b[39m=\u001b[39m \u001b[39mself\u001b[39m\u001b[39m.\u001b[39m_mapped_colors\n\u001b[0;32m    895\u001b[0m \u001b[39melse\u001b[39;00m:\n\u001b[1;32m--> 896\u001b[0m     \u001b[39mself\u001b[39;49m\u001b[39m.\u001b[39;49m_set_facecolor(\u001b[39mself\u001b[39;49m\u001b[39m.\u001b[39;49m_original_facecolor)\n\u001b[0;32m    897\u001b[0m \u001b[39mif\u001b[39;00m \u001b[39mself\u001b[39m\u001b[39m.\u001b[39m_edge_is_mapped:\n\u001b[0;32m    898\u001b[0m     \u001b[39mself\u001b[39m\u001b[39m.\u001b[39m_edgecolors \u001b[39m=\u001b[39m \u001b[39mself\u001b[39m\u001b[39m.\u001b[39m_mapped_colors\n",
      "File \u001b[1;32mc:\\Users\\ASUS\\AppData\\Local\\Programs\\Python\\Python39\\lib\\site-packages\\matplotlib\\collections.py:737\u001b[0m, in \u001b[0;36mCollection._set_facecolor\u001b[1;34m(self, c)\u001b[0m\n\u001b[0;32m    734\u001b[0m \u001b[39mif\u001b[39;00m c \u001b[39mis\u001b[39;00m \u001b[39mNone\u001b[39;00m:\n\u001b[0;32m    735\u001b[0m     c \u001b[39m=\u001b[39m \u001b[39mself\u001b[39m\u001b[39m.\u001b[39m_get_default_facecolor()\n\u001b[1;32m--> 737\u001b[0m \u001b[39mself\u001b[39m\u001b[39m.\u001b[39m_facecolors \u001b[39m=\u001b[39m mcolors\u001b[39m.\u001b[39;49mto_rgba_array(c, \u001b[39mself\u001b[39;49m\u001b[39m.\u001b[39;49m_alpha)\n\u001b[0;32m    738\u001b[0m \u001b[39mself\u001b[39m\u001b[39m.\u001b[39mstale \u001b[39m=\u001b[39m \u001b[39mTrue\u001b[39;00m\n",
      "File \u001b[1;32mc:\\Users\\ASUS\\AppData\\Local\\Programs\\Python\\Python39\\lib\\site-packages\\matplotlib\\colors.py:485\u001b[0m, in \u001b[0;36mto_rgba_array\u001b[1;34m(c, alpha)\u001b[0m\n\u001b[0;32m    483\u001b[0m         rgba \u001b[39m=\u001b[39m np\u001b[39m.\u001b[39marray(c)\n\u001b[0;32m    484\u001b[0m     \u001b[39melse\u001b[39;00m:\n\u001b[1;32m--> 485\u001b[0m         rgba \u001b[39m=\u001b[39m np\u001b[39m.\u001b[39marray([to_rgba(cc) \u001b[39mfor\u001b[39;00m cc \u001b[39min\u001b[39;00m c])\n\u001b[0;32m    486\u001b[0m \u001b[39melse\u001b[39;00m:\n\u001b[0;32m    487\u001b[0m     rgba \u001b[39m=\u001b[39m np\u001b[39m.\u001b[39marray([to_rgba(cc) \u001b[39mfor\u001b[39;00m cc \u001b[39min\u001b[39;00m c])\n",
      "File \u001b[1;32mc:\\Users\\ASUS\\AppData\\Local\\Programs\\Python\\Python39\\lib\\site-packages\\matplotlib\\colors.py:485\u001b[0m, in \u001b[0;36m<listcomp>\u001b[1;34m(.0)\u001b[0m\n\u001b[0;32m    483\u001b[0m         rgba \u001b[39m=\u001b[39m np\u001b[39m.\u001b[39marray(c)\n\u001b[0;32m    484\u001b[0m     \u001b[39melse\u001b[39;00m:\n\u001b[1;32m--> 485\u001b[0m         rgba \u001b[39m=\u001b[39m np\u001b[39m.\u001b[39marray([to_rgba(cc) \u001b[39mfor\u001b[39;00m cc \u001b[39min\u001b[39;00m c])\n\u001b[0;32m    486\u001b[0m \u001b[39melse\u001b[39;00m:\n\u001b[0;32m    487\u001b[0m     rgba \u001b[39m=\u001b[39m np\u001b[39m.\u001b[39marray([to_rgba(cc) \u001b[39mfor\u001b[39;00m cc \u001b[39min\u001b[39;00m c])\n",
      "File \u001b[1;32mc:\\Users\\ASUS\\AppData\\Local\\Programs\\Python\\Python39\\lib\\site-packages\\matplotlib\\colors.py:299\u001b[0m, in \u001b[0;36mto_rgba\u001b[1;34m(c, alpha)\u001b[0m\n\u001b[0;32m    297\u001b[0m     rgba \u001b[39m=\u001b[39m \u001b[39mNone\u001b[39;00m\n\u001b[0;32m    298\u001b[0m \u001b[39mif\u001b[39;00m rgba \u001b[39mis\u001b[39;00m \u001b[39mNone\u001b[39;00m:  \u001b[39m# Suppress exception chaining of cache lookup failure.\u001b[39;00m\n\u001b[1;32m--> 299\u001b[0m     rgba \u001b[39m=\u001b[39m _to_rgba_no_colorcycle(c, alpha)\n\u001b[0;32m    300\u001b[0m     \u001b[39mtry\u001b[39;00m:\n\u001b[0;32m    301\u001b[0m         _colors_full_map\u001b[39m.\u001b[39mcache[c, alpha] \u001b[39m=\u001b[39m rgba\n",
      "File \u001b[1;32mc:\\Users\\ASUS\\AppData\\Local\\Programs\\Python\\Python39\\lib\\site-packages\\matplotlib\\colors.py:381\u001b[0m, in \u001b[0;36m_to_rgba_no_colorcycle\u001b[1;34m(c, alpha)\u001b[0m\n\u001b[0;32m    379\u001b[0m \u001b[39m# tuple color.\u001b[39;00m\n\u001b[0;32m    380\u001b[0m \u001b[39mif\u001b[39;00m \u001b[39mnot\u001b[39;00m np\u001b[39m.\u001b[39miterable(c):\n\u001b[1;32m--> 381\u001b[0m     \u001b[39mraise\u001b[39;00m \u001b[39mValueError\u001b[39;00m(\u001b[39mf\u001b[39m\u001b[39m\"\u001b[39m\u001b[39mInvalid RGBA argument: \u001b[39m\u001b[39m{\u001b[39;00morig_c\u001b[39m!r}\u001b[39;00m\u001b[39m\"\u001b[39m)\n\u001b[0;32m    382\u001b[0m \u001b[39mif\u001b[39;00m \u001b[39mlen\u001b[39m(c) \u001b[39mnot\u001b[39;00m \u001b[39min\u001b[39;00m [\u001b[39m3\u001b[39m, \u001b[39m4\u001b[39m]:\n\u001b[0;32m    383\u001b[0m     \u001b[39mraise\u001b[39;00m \u001b[39mValueError\u001b[39;00m(\u001b[39m\"\u001b[39m\u001b[39mRGBA sequence should have length 3 or 4\u001b[39m\u001b[39m\"\u001b[39m)\n",
      "\u001b[1;31mValueError\u001b[0m: Invalid RGBA argument: 0"
     ]
    },
    {
     "data": {
      "image/png": "[encoded data removed]",
      "text/plain": [
       "<Figure size 432x288 with 1 Axes>"
      ]
     },
     "metadata": {
      "needs_background": "light"
     },
     "output_type": "display_data"
    }
   ],
   "source": [
    "X_reduced.shape\n",
    "data_full.shape\n",
    "\n",
    "import seaborn as sns\n",
    "\n",
    "sns.scatterplot(\n",
    "    data=data_full,\n",
    "    palette=true_labels,\n",
    ")"
   ]
  },
  {
   "cell_type": "code",
   "execution_count": 30,
   "metadata": {},
   "outputs": [
    {
     "name": "stderr",
     "output_type": "stream",
     "text": [
      "No artists with labels found to put in legend.  Note that artists whose label start with an underscore are ignored when legend() is called with no argument.\n",
      "C:\\Users\\ASUS\\AppData\\Local\\Temp\\ipykernel_36224\\1458601024.py:5: MatplotlibDeprecationWarning: Auto-removal of overlapping axes is deprecated since 3.6 and will be removed two minor releases later; explicitly call ax.remove() as needed.\n",
      "  plt.subplot(152)\n",
      "No artists with labels found to put in legend.  Note that artists whose label start with an underscore are ignored when legend() is called with no argument.\n"
     ]
    },
    {
     "data": {
      "text/plain": [
       "<matplotlib.legend.Legend at 0x157539fc640>"
      ]
     },
     "execution_count": 30,
     "metadata": {},
     "output_type": "execute_result"
    },
    {
     "data": {
      "image/png": "[encoded data removed]",
      "text/plain": [
       "<Figure size 2736x504 with 1 Axes>"
      ]
     },
     "metadata": {
      "needs_background": "light"
     },
     "output_type": "display_data"
    }
   ],
   "source": [
    "plt.figure(figsize=(38, 7))\n",
    "plt.xlabel(r\"$\\gamma^\\prime$\")\n",
    "plt.ylabel(\"Silhouette score\")\n",
    "plt.legend()\n",
    "plt.subplot(152)\n",
    "plt.plot(pcpca_gamma_plot_list, cluster_scores_pcpca, \"-o\", linewidth=2)\n",
    "plt.title(\"PCPCA\")\n",
    "plt.ylim([0, 1])\n",
    "plt.xlim([0, pcpca_gamma_plot_list[-1] + 0.1])\n",
    "#plt.axvline(pcpca_fail_gamma, color=\"black\", linestyle=\"--\")\n",
    "plt.axhline(np.max(cluster_scores_pcpca), color=\"red\", linestyle=\"--\")\n",
    "#plt.axhline(clvm_cluster_score, color=\"blue\", linestyle=\"--\", label=\"CLVM\")\n",
    "plt.xlabel(r\"$\\gamma^\\prime$\")\n",
    "plt.ylabel(\"Silhouette score\")\n",
    "plt.legend()\n"
   ]
  }
 ],
 "metadata": {
  "kernelspec": {
   "display_name": "Python 3.9.4 64-bit",
   "language": "python",
   "name": "python3"
  },
  "language_info": {
   "codemirror_mode": {
    "name": "ipython",
    "version": 3
   },
   "file_extension": ".py",
   "mimetype": "text/x-python",
   "name": "python",
   "nbconvert_exporter": "python",
   "pygments_lexer": "ipython3",
   "version": "3.9.4 (tags/v3.9.4:1f2e308, Apr  6 2021, 13:40:21) [MSC v.1928 64 bit (AMD64)]"
  },
  "orig_nbformat": 4,
  "vscode": {
   "interpreter": {
    "hash": "14958d3aee5f1cad06795f787e54b96185c25fb40dfec723a5be941f3a531b8c"
   }
  }
 },
 "nbformat": 4,
 "nbformat_minor": 2
}
